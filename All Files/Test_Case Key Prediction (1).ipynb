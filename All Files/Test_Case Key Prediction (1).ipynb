{
 "cells": [
  {
   "cell_type": "markdown",
   "id": "0e8d0c24",
   "metadata": {},
   "source": [
    "# Importing necessary Library"
   ]
  },
  {
   "cell_type": "code",
   "execution_count": 35,
   "id": "4b061cc3",
   "metadata": {},
   "outputs": [],
   "source": [
    "import pandas as pd\n",
    "from sklearn.model_selection import train_test_split\n",
    "from sklearn.pipeline import Pipeline\n",
    "from sklearn.feature_extraction.text import TfidfVectorizer #TF-IDF is a numerical statistic that reflects how important a word is to a document in a collection.\n",
    "from sklearn.svm import LinearSVC\n",
    "from sklearn.metrics import confusion_matrix, classification_report, accuracy_score\n",
    "import joblib\n",
    "from selenium import webdriver"
   ]
  },
  {
   "cell_type": "markdown",
   "id": "2c05d5c1",
   "metadata": {},
   "source": [
    "# Nlp keyword generation part"
   ]
  },
  {
   "cell_type": "markdown",
   "id": "6d373857",
   "metadata": {},
   "source": [
    "# Step:1 Intally we are getting Testcase As an Input as xlsx file"
   ]
  },
  {
   "cell_type": "code",
   "execution_count": 7,
   "id": "28e64fbc",
   "metadata": {},
   "outputs": [],
   "source": [
    "df = pd.read_excel(r\"C:\\Users\\abdul\\PycharmProjects\\Automation_Optimum\\training_data_new.xlsx\",engine='openpyxl')"
   ]
  },
  {
   "cell_type": "markdown",
   "id": "2ad71bcc",
   "metadata": {},
   "source": [
    "# STEP:2 We are the creating Dataframe by taking only TestSteps and we are assiging the common english keywords"
   ]
  },
  {
   "cell_type": "markdown",
   "id": "a7494460",
   "metadata": {},
   "source": [
    "While working with any NLP/ML model we have to provide dataframe as training Data"
   ]
  },
  {
   "cell_type": "code",
   "execution_count": 8,
   "id": "4e374f56",
   "metadata": {},
   "outputs": [
    {
     "data": {
      "text/html": [
       "<div>\n",
       "<style scoped>\n",
       "    .dataframe tbody tr th:only-of-type {\n",
       "        vertical-align: middle;\n",
       "    }\n",
       "\n",
       "    .dataframe tbody tr th {\n",
       "        vertical-align: top;\n",
       "    }\n",
       "\n",
       "    .dataframe thead th {\n",
       "        text-align: right;\n",
       "    }\n",
       "</style>\n",
       "<table border=\"1\" class=\"dataframe\">\n",
       "  <thead>\n",
       "    <tr style=\"text-align: right;\">\n",
       "      <th></th>\n",
       "      <th>Label</th>\n",
       "      <th>TestSteps</th>\n",
       "      <th>Unnamed: 2</th>\n",
       "      <th>Unnamed: 3</th>\n",
       "      <th>Unnamed: 4</th>\n",
       "      <th>Unnamed: 5</th>\n",
       "      <th>Unnamed: 6</th>\n",
       "    </tr>\n",
       "  </thead>\n",
       "  <tbody>\n",
       "    <tr>\n",
       "      <th>0</th>\n",
       "      <td>Url</td>\n",
       "      <td>Navigate to People desk url</td>\n",
       "      <td>NaN</td>\n",
       "      <td>NaN</td>\n",
       "      <td>NaN</td>\n",
       "      <td>NaN</td>\n",
       "      <td>NaN</td>\n",
       "    </tr>\n",
       "    <tr>\n",
       "      <th>1</th>\n",
       "      <td>Employee ID</td>\n",
       "      <td>Enter the \"Your Employee ID / Official Mail ID\"</td>\n",
       "      <td>NaN</td>\n",
       "      <td>NaN</td>\n",
       "      <td>NaN</td>\n",
       "      <td>NaN</td>\n",
       "      <td>NaN</td>\n",
       "    </tr>\n",
       "    <tr>\n",
       "      <th>2</th>\n",
       "      <td>Password</td>\n",
       "      <td>Enter the \"Your Password\"</td>\n",
       "      <td>NaN</td>\n",
       "      <td>NaN</td>\n",
       "      <td>NaN</td>\n",
       "      <td>NaN</td>\n",
       "      <td>NaN</td>\n",
       "    </tr>\n",
       "    <tr>\n",
       "      <th>3</th>\n",
       "      <td>Click</td>\n",
       "      <td>Click on \"Log In\" button</td>\n",
       "      <td>NaN</td>\n",
       "      <td>NaN</td>\n",
       "      <td>NaN</td>\n",
       "      <td>NaN</td>\n",
       "      <td>NaN</td>\n",
       "    </tr>\n",
       "    <tr>\n",
       "      <th>4</th>\n",
       "      <td>Wait</td>\n",
       "      <td>Wait until \"My Monthly Attendance\" is visible</td>\n",
       "      <td>NaN</td>\n",
       "      <td>NaN</td>\n",
       "      <td>NaN</td>\n",
       "      <td>NaN</td>\n",
       "      <td>NaN</td>\n",
       "    </tr>\n",
       "    <tr>\n",
       "      <th>...</th>\n",
       "      <td>...</td>\n",
       "      <td>...</td>\n",
       "      <td>...</td>\n",
       "      <td>...</td>\n",
       "      <td>...</td>\n",
       "      <td>...</td>\n",
       "      <td>...</td>\n",
       "    </tr>\n",
       "    <tr>\n",
       "      <th>364</th>\n",
       "      <td>Url</td>\n",
       "      <td>Open the CBI_Net Banking mobile application.</td>\n",
       "      <td>NaN</td>\n",
       "      <td>NaN</td>\n",
       "      <td>NaN</td>\n",
       "      <td>NaN</td>\n",
       "      <td>NaN</td>\n",
       "    </tr>\n",
       "    <tr>\n",
       "      <th>365</th>\n",
       "      <td>Click</td>\n",
       "      <td>Click on the Register Button</td>\n",
       "      <td>NaN</td>\n",
       "      <td>NaN</td>\n",
       "      <td>NaN</td>\n",
       "      <td>NaN</td>\n",
       "      <td>NaN</td>\n",
       "    </tr>\n",
       "    <tr>\n",
       "      <th>366</th>\n",
       "      <td>Url</td>\n",
       "      <td>Open the CBI_Net Banking mobile application.</td>\n",
       "      <td>NaN</td>\n",
       "      <td>NaN</td>\n",
       "      <td>NaN</td>\n",
       "      <td>NaN</td>\n",
       "      <td>NaN</td>\n",
       "    </tr>\n",
       "    <tr>\n",
       "      <th>367</th>\n",
       "      <td>Click</td>\n",
       "      <td>Click on the Register Button</td>\n",
       "      <td>NaN</td>\n",
       "      <td>NaN</td>\n",
       "      <td>NaN</td>\n",
       "      <td>NaN</td>\n",
       "      <td>NaN</td>\n",
       "    </tr>\n",
       "    <tr>\n",
       "      <th>368</th>\n",
       "      <td>Click</td>\n",
       "      <td>Click on the Accept Button in Terms and Condi...</td>\n",
       "      <td>NaN</td>\n",
       "      <td>NaN</td>\n",
       "      <td>NaN</td>\n",
       "      <td>NaN</td>\n",
       "      <td>NaN</td>\n",
       "    </tr>\n",
       "  </tbody>\n",
       "</table>\n",
       "<p>369 rows × 7 columns</p>\n",
       "</div>"
      ],
      "text/plain": [
       "           Label                                          TestSteps  \\\n",
       "0            Url                        Navigate to People desk url   \n",
       "1    Employee ID    Enter the \"Your Employee ID / Official Mail ID\"   \n",
       "2       Password                          Enter the \"Your Password\"   \n",
       "3          Click                           Click on \"Log In\" button   \n",
       "4           Wait      Wait until \"My Monthly Attendance\" is visible   \n",
       "..           ...                                                ...   \n",
       "364          Url       Open the CBI_Net Banking mobile application.   \n",
       "365        Click                      Click on the Register Button    \n",
       "366          Url       Open the CBI_Net Banking mobile application.   \n",
       "367        Click                      Click on the Register Button    \n",
       "368        Click   Click on the Accept Button in Terms and Condi...   \n",
       "\n",
       "     Unnamed: 2  Unnamed: 3  Unnamed: 4  Unnamed: 5  Unnamed: 6  \n",
       "0           NaN         NaN         NaN         NaN         NaN  \n",
       "1           NaN         NaN         NaN         NaN         NaN  \n",
       "2           NaN         NaN         NaN         NaN         NaN  \n",
       "3           NaN         NaN         NaN         NaN         NaN  \n",
       "4           NaN         NaN         NaN         NaN         NaN  \n",
       "..          ...         ...         ...         ...         ...  \n",
       "364         NaN         NaN         NaN         NaN         NaN  \n",
       "365         NaN         NaN         NaN         NaN         NaN  \n",
       "366         NaN         NaN         NaN         NaN         NaN  \n",
       "367         NaN         NaN         NaN         NaN         NaN  \n",
       "368         NaN         NaN         NaN         NaN         NaN  \n",
       "\n",
       "[369 rows x 7 columns]"
      ]
     },
     "execution_count": 8,
     "metadata": {},
     "output_type": "execute_result"
    }
   ],
   "source": [
    "df"
   ]
  },
  {
   "cell_type": "markdown",
   "id": "3668a90a",
   "metadata": {},
   "source": [
    "# STEP:3Creating Nlp basic model Which is Capable enough to predict common english keyword"
   ]
  },
  {
   "cell_type": "code",
   "execution_count": 9,
   "id": "64338b76",
   "metadata": {},
   "outputs": [],
   "source": [
    "\n",
    "X = df['TestSteps']\n",
    "y = df['Label']\n",
    "\n",
    "\n",
    "X_train, X_test, y_train, y_test = train_test_split(X, y, test_size=0.3)\n",
    "txt_clf = Pipeline([('tfidf',TfidfVectorizer()),('clf',LinearSVC())])\n",
    "txt_clf.fit(X_train, y_train)\n",
    "Pipeline(steps=[('tfidf', TfidfVectorizer()), ('clf', LinearSVC())])\n",
    "predictions = txt_clf.predict(X_test)\n",
    "\n",
    "\n"
   ]
  },
  {
   "cell_type": "markdown",
   "id": "e6993fc0",
   "metadata": {},
   "source": [
    "# Once our model developed it is capable enough to predict the keyword\n"
   ]
  },
  {
   "cell_type": "code",
   "execution_count": 10,
   "id": "c457c42b",
   "metadata": {},
   "outputs": [
    {
     "data": {
      "text/plain": [
       "array(['Click', 'product name', 'Url', 'Enter', 'Employee ID', 'Click',\n",
       "       'Click', 'Url', 'Click', 'Select', 'Click', 'Url', 'Click',\n",
       "       'Click', 'Click', 'Click', 'Url', 'Click', 'Employee ID',\n",
       "       'Password', 'Password', 'Click', 'Wait', 'Enter', 'Click',\n",
       "       'Search', 'Click', 'Search', 'Employee ID', 'product name',\n",
       "       'Input Text', 'Employee ID', 'Password', 'Enter', 'Click', 'Url',\n",
       "       'Employee ID', 'product name', 'Employee ID', 'Url', 'Click',\n",
       "       'product name', 'Employee ID', 'Click', 'Url', 'Enter', 'Click',\n",
       "       'Wait', 'Employee ID', 'product name', 'Search', 'Search', 'Click',\n",
       "       'Wait', 'Employee ID', 'Password', 'Enter', 'Click', 'Click',\n",
       "       'Click', 'Url', 'Search', 'Wait', 'Wait', 'Url', 'Url', 'Click',\n",
       "       'Employee ID', 'add to cart', 'Password', 'product name',\n",
       "       ' Screenshot', 'Click', 'Screenshot', 'Click', 'product name',\n",
       "       'Click', 'Click', 'Click', 'Password', 'Password', 'add to cart',\n",
       "       'Url', 'Url', 'Click', 'Click', 'Click', 'Wait', 'Click', 'Click',\n",
       "       'Click', 'Search', 'Click', 'Click', 'Click', 'Search', 'Click',\n",
       "       'Click', 'Employee ID', 'Search', 'Click', 'Password', 'Click',\n",
       "       'Url', 'Password', 'Employee ID', 'Click', 'Url', 'Url', 'Click',\n",
       "       'Click'], dtype=object)"
      ]
     },
     "execution_count": 10,
     "metadata": {},
     "output_type": "execute_result"
    }
   ],
   "source": [
    "predictions"
   ]
  },
  {
   "cell_type": "code",
   "execution_count": null,
   "id": "c6108b24",
   "metadata": {},
   "outputs": [],
   "source": []
  },
  {
   "cell_type": "code",
   "execution_count": 11,
   "id": "864c5b7d",
   "metadata": {},
   "outputs": [
    {
     "data": {
      "text/html": [
       "<div>\n",
       "<style scoped>\n",
       "    .dataframe tbody tr th:only-of-type {\n",
       "        vertical-align: middle;\n",
       "    }\n",
       "\n",
       "    .dataframe tbody tr th {\n",
       "        vertical-align: top;\n",
       "    }\n",
       "\n",
       "    .dataframe thead th {\n",
       "        text-align: right;\n",
       "    }\n",
       "</style>\n",
       "<table border=\"1\" class=\"dataframe\">\n",
       "  <thead>\n",
       "    <tr style=\"text-align: right;\">\n",
       "      <th></th>\n",
       "      <th>Actual</th>\n",
       "      <th>Predicted</th>\n",
       "    </tr>\n",
       "  </thead>\n",
       "  <tbody>\n",
       "    <tr>\n",
       "      <th>332</th>\n",
       "      <td>Click</td>\n",
       "      <td>Click</td>\n",
       "    </tr>\n",
       "    <tr>\n",
       "      <th>252</th>\n",
       "      <td>product name</td>\n",
       "      <td>product name</td>\n",
       "    </tr>\n",
       "    <tr>\n",
       "      <th>32</th>\n",
       "      <td>Url</td>\n",
       "      <td>Url</td>\n",
       "    </tr>\n",
       "    <tr>\n",
       "      <th>16</th>\n",
       "      <td>Enter</td>\n",
       "      <td>Enter</td>\n",
       "    </tr>\n",
       "    <tr>\n",
       "      <th>63</th>\n",
       "      <td>Employee ID</td>\n",
       "      <td>Employee ID</td>\n",
       "    </tr>\n",
       "    <tr>\n",
       "      <th>...</th>\n",
       "      <td>...</td>\n",
       "      <td>...</td>\n",
       "    </tr>\n",
       "    <tr>\n",
       "      <th>356</th>\n",
       "      <td>Click</td>\n",
       "      <td>Click</td>\n",
       "    </tr>\n",
       "    <tr>\n",
       "      <th>226</th>\n",
       "      <td>Url</td>\n",
       "      <td>Url</td>\n",
       "    </tr>\n",
       "    <tr>\n",
       "      <th>100</th>\n",
       "      <td>Url</td>\n",
       "      <td>Url</td>\n",
       "    </tr>\n",
       "    <tr>\n",
       "      <th>359</th>\n",
       "      <td>Click</td>\n",
       "      <td>Click</td>\n",
       "    </tr>\n",
       "    <tr>\n",
       "      <th>103</th>\n",
       "      <td>Click</td>\n",
       "      <td>Click</td>\n",
       "    </tr>\n",
       "  </tbody>\n",
       "</table>\n",
       "<p>111 rows × 2 columns</p>\n",
       "</div>"
      ],
      "text/plain": [
       "           Actual     Predicted\n",
       "332         Click         Click\n",
       "252  product name  product name\n",
       "32            Url           Url\n",
       "16          Enter         Enter\n",
       "63    Employee ID   Employee ID\n",
       "..            ...           ...\n",
       "356         Click         Click\n",
       "226           Url           Url\n",
       "100           Url           Url\n",
       "359         Click         Click\n",
       "103         Click         Click\n",
       "\n",
       "[111 rows x 2 columns]"
      ]
     },
     "execution_count": 11,
     "metadata": {},
     "output_type": "execute_result"
    }
   ],
   "source": [
    "df_scores_comp = pd.DataFrame({'Actual':y_test, 'Predicted':predictions})\n",
    "df_scores_comp\n"
   ]
  },
  {
   "cell_type": "code",
   "execution_count": 12,
   "id": "3e59a8e6",
   "metadata": {},
   "outputs": [
    {
     "name": "stdout",
     "output_type": "stream",
     "text": [
      "0.990990990990991\n"
     ]
    }
   ],
   "source": [
    "print(accuracy_score(y_test, predictions))"
   ]
  },
  {
   "cell_type": "markdown",
   "id": "bc950fdd",
   "metadata": {},
   "source": [
    "# Ingesting the New test case and the keyword is predicted using the new test case's test steps and be created as the dataframe. \n",
    "\n",
    "\n",
    "\n",
    "\n"
   ]
  },
  {
   "cell_type": "code",
   "execution_count": 30,
   "id": "da413978",
   "metadata": {},
   "outputs": [],
   "source": [
    "\n",
    "df_testCase = pd.read_excel(r\"C:\\Users\\abdul\\PycharmProjects\\Automation_Optimum\\Flipkart - Web.xlsx\",engine='openpyxl',sheet_name=0)"
   ]
  },
  {
   "cell_type": "code",
   "execution_count": 16,
   "id": "4b98d0d2",
   "metadata": {},
   "outputs": [
    {
     "data": {
      "text/html": [
       "<div>\n",
       "<style scoped>\n",
       "    .dataframe tbody tr th:only-of-type {\n",
       "        vertical-align: middle;\n",
       "    }\n",
       "\n",
       "    .dataframe tbody tr th {\n",
       "        vertical-align: top;\n",
       "    }\n",
       "\n",
       "    .dataframe thead th {\n",
       "        text-align: right;\n",
       "    }\n",
       "</style>\n",
       "<table border=\"1\" class=\"dataframe\">\n",
       "  <thead>\n",
       "    <tr style=\"text-align: right;\">\n",
       "      <th></th>\n",
       "      <th>Test case Id</th>\n",
       "      <th>Function</th>\n",
       "      <th>Subfunction</th>\n",
       "      <th>Prerequisites</th>\n",
       "      <th>Test Scenario</th>\n",
       "      <th>Test cases</th>\n",
       "      <th>Execution Steps</th>\n",
       "      <th>Expected Result</th>\n",
       "      <th>Actual Result</th>\n",
       "      <th>Status</th>\n",
       "      <th>Type</th>\n",
       "    </tr>\n",
       "  </thead>\n",
       "  <tbody>\n",
       "    <tr>\n",
       "      <th>0</th>\n",
       "      <td>TC_FK_001</td>\n",
       "      <td>Flipkart Web - Application Launch</td>\n",
       "      <td>Flipkart _ Application Launch - with URL</td>\n",
       "      <td>1) Enable the Internet. \\n2) Launch the Flipka...</td>\n",
       "      <td>Flipkart - Application Launching</td>\n",
       "      <td>To check if the Flipkart Application will laun...</td>\n",
       "      <td>1) Open the Browser\\n2) Enter the given Url in...</td>\n",
       "      <td>Application should be launched and system shou...</td>\n",
       "      <td>Application has launched and home page has dis...</td>\n",
       "      <td>Pass</td>\n",
       "      <td>Positive</td>\n",
       "    </tr>\n",
       "    <tr>\n",
       "      <th>1</th>\n",
       "      <td>TC_FK_002</td>\n",
       "      <td>Flipkart Web- Homepage</td>\n",
       "      <td>Flipkart - Homepage - UI</td>\n",
       "      <td>\\n1) Launch the Flipkart application using giv...</td>\n",
       "      <td>Flipkart - Verification of all the Field and L...</td>\n",
       "      <td>To check if all the Layouts, fields, and compo...</td>\n",
       "      <td>1) Open the application by using given URL \"ht...</td>\n",
       "      <td>All Layouts, fields and components in the Home...</td>\n",
       "      <td>All Layouts, fields and components in the Home...</td>\n",
       "      <td>Pass</td>\n",
       "      <td>Positive</td>\n",
       "    </tr>\n",
       "  </tbody>\n",
       "</table>\n",
       "</div>"
      ],
      "text/plain": [
       "  Test case Id                           Function  \\\n",
       "0    TC_FK_001  Flipkart Web - Application Launch   \n",
       "1    TC_FK_002             Flipkart Web- Homepage   \n",
       "\n",
       "                                Subfunction  \\\n",
       "0  Flipkart _ Application Launch - with URL   \n",
       "1                  Flipkart - Homepage - UI   \n",
       "\n",
       "                                       Prerequisites  \\\n",
       "0  1) Enable the Internet. \\n2) Launch the Flipka...   \n",
       "1  \\n1) Launch the Flipkart application using giv...   \n",
       "\n",
       "                                       Test Scenario  \\\n",
       "0                  Flipkart - Application Launching    \n",
       "1  Flipkart - Verification of all the Field and L...   \n",
       "\n",
       "                                          Test cases  \\\n",
       "0  To check if the Flipkart Application will laun...   \n",
       "1  To check if all the Layouts, fields, and compo...   \n",
       "\n",
       "                                     Execution Steps  \\\n",
       "0  1) Open the Browser\\n2) Enter the given Url in...   \n",
       "1  1) Open the application by using given URL \"ht...   \n",
       "\n",
       "                                     Expected Result  \\\n",
       "0  Application should be launched and system shou...   \n",
       "1  All Layouts, fields and components in the Home...   \n",
       "\n",
       "                                       Actual Result Status      Type  \n",
       "0  Application has launched and home page has dis...   Pass  Positive  \n",
       "1  All Layouts, fields and components in the Home...   Pass  Positive  "
      ]
     },
     "execution_count": 16,
     "metadata": {},
     "output_type": "execute_result"
    }
   ],
   "source": [
    "df_testCase.head(2)"
   ]
  },
  {
   "cell_type": "code",
   "execution_count": 17,
   "id": "700ca004",
   "metadata": {},
   "outputs": [],
   "source": [
    "tryn = df_testCase.iloc[0]"
   ]
  },
  {
   "cell_type": "code",
   "execution_count": 18,
   "id": "c7b16997",
   "metadata": {},
   "outputs": [
    {
     "data": {
      "text/plain": [
       "Test case Id                                               TC_FK_001\n",
       "Function                           Flipkart Web - Application Launch\n",
       "Subfunction                 Flipkart _ Application Launch - with URL\n",
       "Prerequisites      1) Enable the Internet. \\n2) Launch the Flipka...\n",
       "Test Scenario                      Flipkart - Application Launching \n",
       "Test cases         To check if the Flipkart Application will laun...\n",
       "Execution Steps    1) Open the Browser\\n2) Enter the given Url in...\n",
       "Expected Result    Application should be launched and system shou...\n",
       "Actual Result      Application has launched and home page has dis...\n",
       "Status                                                          Pass\n",
       "Type                                                        Positive\n",
       "Name: 0, dtype: object"
      ]
     },
     "execution_count": 18,
     "metadata": {},
     "output_type": "execute_result"
    }
   ],
   "source": [
    "tryn"
   ]
  },
  {
   "cell_type": "code",
   "execution_count": 19,
   "id": "882a6f93",
   "metadata": {},
   "outputs": [],
   "source": [
    "concatenated_str = tryn.astype(str)"
   ]
  },
  {
   "cell_type": "code",
   "execution_count": 20,
   "id": "19f89c24",
   "metadata": {},
   "outputs": [
    {
     "data": {
      "text/plain": [
       "Test case Id                                               TC_FK_001\n",
       "Function                           Flipkart Web - Application Launch\n",
       "Subfunction                 Flipkart _ Application Launch - with URL\n",
       "Prerequisites      1) Enable the Internet. \\n2) Launch the Flipka...\n",
       "Test Scenario                      Flipkart - Application Launching \n",
       "Test cases         To check if the Flipkart Application will laun...\n",
       "Execution Steps    1) Open the Browser\\n2) Enter the given Url in...\n",
       "Expected Result    Application should be launched and system shou...\n",
       "Actual Result      Application has launched and home page has dis...\n",
       "Status                                                          Pass\n",
       "Type                                                        Positive\n",
       "Name: 0, dtype: object"
      ]
     },
     "execution_count": 20,
     "metadata": {},
     "output_type": "execute_result"
    }
   ],
   "source": [
    "concatenated_str"
   ]
  },
  {
   "cell_type": "code",
   "execution_count": 21,
   "id": "56df30f9",
   "metadata": {},
   "outputs": [
    {
     "name": "stdout",
     "output_type": "stream",
     "text": [
      "TC_FK_001 Flipkart Web - Application Launch Flipkart _ Application Launch - with URL 1) Enable the Internet. \n",
      "2) Launch the Flipkart application using given URL \"https://www.flipkart.com/\" Flipkart - Application Launching  To check if the Flipkart Application will launch without fail. 1) Open the Browser\n",
      "2) Enter the given Url in the searchbox  \"https://www.flipkart.com\" and click on Enter button.\n",
      "3) Please make sure once and click on the first link which will be Flipkart's official link. Application should be launched and system should display the home page Application has launched and home page has displayed succesfully Pass Positive\n"
     ]
    }
   ],
   "source": [
    "result = concatenated_str.str.cat(sep=' ')\n",
    "print(result)"
   ]
  },
  {
   "cell_type": "code",
   "execution_count": 22,
   "id": "9fc9d1b0",
   "metadata": {},
   "outputs": [
    {
     "name": "stdout",
     "output_type": "stream",
     "text": [
      "TC_FK_001 Flipkart Web - Application Launch Flipkart _ Application Launch - with URL\n",
      "Enable the Internet.\n",
      "https://www.flipkart.com/\"\n",
      "Open the Browser\n",
      "https://www.flipkart.com\"\n",
      "Please make sure once and click on the first link which will be Flipkart's official link. Application should be launched and system should display the home page Application has launched and home page has displayed succesfully Pass Positive\n"
     ]
    }
   ],
   "source": [
    "import re\n",
    "#text = \"1) Open the Browser 2) Enter the given Url in the searchbox \\\"https://www.flipkart.com\\\" and click on Enter button. 3) Please make sure once and click on the first link which will be Flipkart's official link.\"\n",
    "steps = re.split(r'\\d+\\)', result)\n",
    "steps = [s.strip() for s in steps if s.strip()]\n",
    "\n",
    "\n",
    "\n",
    "# list of steps\n",
    "#steps = ['Open the Browser', 'Enter the given Url in the searchbox \"https://www.flipkart.com\" and click on Enter button.', 'Please make sure once and click on the first link which will be Flipkart\\'s official link.']\n",
    "\n",
    "urls=[]\n",
    "for step in steps:\n",
    "    if 'https' in step:\n",
    "        url = re.findall(\"(?P<url>https?:[^\\s]+)\", step)[0]\n",
    "        print(url)\n",
    "        urls.append(url[0:-1])  # removing double quotes from URL using string slicing\n",
    "   \n",
    "    else:\n",
    "        print(step)"
   ]
  },
  {
   "cell_type": "code",
   "execution_count": 23,
   "id": "709d1491",
   "metadata": {},
   "outputs": [
    {
     "name": "stdout",
     "output_type": "stream",
     "text": [
      "{'Execution Steps': '1) Open the Browser\\n2) Enter the given Url in the searchbox  \"https://www.flipkart.com\" and click on Enter button.\\n3) Please make sure once and click on the first link which will be Flipkart\\'s official link.'}\n"
     ]
    }
   ],
   "source": [
    "# create a dictionary\n",
    "d = tryn.to_dict()\n",
    "# get the key-value pairs where the key contains the substring 'an'\n",
    "an_dict = {k: v for k, v in d.items() if 'Step' in k}\n",
    "\n",
    "# print the dictionary\n",
    "print(an_dict) \n"
   ]
  },
  {
   "cell_type": "code",
   "execution_count": 24,
   "id": "dd5d0817",
   "metadata": {},
   "outputs": [
    {
     "name": "stdout",
     "output_type": "stream",
     "text": [
      "[' Open the Browser', ' Enter the given Url in the searchbox  \"https://www.flipkart.com\" and click on Enter button.', \" Please make sure once and click on the first link which will be Flipkart's official link.\"]\n"
     ]
    }
   ],
   "source": [
    "my_list = list(an_dict.values())\n",
    "# print(my_list)\n",
    "op=[]\n",
    "for i in my_list:\n",
    "    for j in i.split(\"\\n\"):\n",
    "        op.append(\"\".join(re.findall(\"[^\\d+)]\",j)))\n",
    "print(op)"
   ]
  },
  {
   "cell_type": "code",
   "execution_count": 25,
   "id": "35277af8",
   "metadata": {},
   "outputs": [
    {
     "data": {
      "text/html": [
       "<div>\n",
       "<style scoped>\n",
       "    .dataframe tbody tr th:only-of-type {\n",
       "        vertical-align: middle;\n",
       "    }\n",
       "\n",
       "    .dataframe tbody tr th {\n",
       "        vertical-align: top;\n",
       "    }\n",
       "\n",
       "    .dataframe thead th {\n",
       "        text-align: right;\n",
       "    }\n",
       "</style>\n",
       "<table border=\"1\" class=\"dataframe\">\n",
       "  <thead>\n",
       "    <tr style=\"text-align: right;\">\n",
       "      <th></th>\n",
       "      <th>testcases</th>\n",
       "    </tr>\n",
       "  </thead>\n",
       "  <tbody>\n",
       "    <tr>\n",
       "      <th>0</th>\n",
       "      <td>Open the Browser</td>\n",
       "    </tr>\n",
       "    <tr>\n",
       "      <th>1</th>\n",
       "      <td>Enter the given Url in the searchbox  \"https:...</td>\n",
       "    </tr>\n",
       "    <tr>\n",
       "      <th>2</th>\n",
       "      <td>Please make sure once and click on the first ...</td>\n",
       "    </tr>\n",
       "  </tbody>\n",
       "</table>\n",
       "</div>"
      ],
      "text/plain": [
       "                                           testcases\n",
       "0                                   Open the Browser\n",
       "1   Enter the given Url in the searchbox  \"https:...\n",
       "2   Please make sure once and click on the first ..."
      ]
     },
     "execution_count": 25,
     "metadata": {},
     "output_type": "execute_result"
    }
   ],
   "source": [
    "gf=pd.DataFrame({\"testcases\":op})\n",
    "gf\n"
   ]
  },
  {
   "cell_type": "code",
   "execution_count": 26,
   "id": "70b4923d",
   "metadata": {},
   "outputs": [
    {
     "data": {
      "text/plain": [
       "array(['Get', 'Url', 'Click'], dtype=object)"
      ]
     },
     "execution_count": 26,
     "metadata": {},
     "output_type": "execute_result"
    }
   ],
   "source": [
    "dummy = txt_clf.predict(gf[\"testcases\"])\n",
    "dummy"
   ]
  },
  {
   "cell_type": "code",
   "execution_count": null,
   "id": "ab51c895",
   "metadata": {},
   "outputs": [],
   "source": []
  },
  {
   "cell_type": "code",
   "execution_count": null,
   "id": "b0aa6e47",
   "metadata": {},
   "outputs": [],
   "source": []
  },
  {
   "cell_type": "code",
   "execution_count": null,
   "id": "e599fa8d",
   "metadata": {},
   "outputs": [],
   "source": []
  },
  {
   "cell_type": "code",
   "execution_count": null,
   "id": "a6235b0a",
   "metadata": {},
   "outputs": [],
   "source": []
  },
  {
   "cell_type": "code",
   "execution_count": null,
   "id": "851149a5",
   "metadata": {},
   "outputs": [],
   "source": []
  },
  {
   "cell_type": "code",
   "execution_count": null,
   "id": "8ed4250f",
   "metadata": {},
   "outputs": [],
   "source": []
  },
  {
   "cell_type": "code",
   "execution_count": 31,
   "id": "450deed1",
   "metadata": {},
   "outputs": [
    {
     "name": "stdout",
     "output_type": "stream",
     "text": [
      "Enable the Internet.\n",
      "https://www.flipkart.com/\"\n"
     ]
    },
    {
     "data": {
      "text/plain": [
       "array(['Click', 'Url'], dtype=object)"
      ]
     },
     "execution_count": 31,
     "metadata": {},
     "output_type": "execute_result"
    }
   ],
   "source": [
    "rew = df_testCase['Prerequisites'].iloc[0]\n",
    "\n",
    "import re\n",
    "#text = \"1) Open the Browser 2) Enter the given Url in the searchbox \\\"https://www.flipkart.com\\\" and click on Enter button. 3) Please make sure once and click on the first link which will be Flipkart's official link.\"\n",
    "steps = re.split(r'\\d+\\)', rew)\n",
    "steps = [s.strip() for s in steps if s.strip()]\n",
    "\n",
    "\n",
    "\n",
    "# list of steps\n",
    "#steps = ['Open the Browser', 'Enter the given Url in the searchbox \"https://www.flipkart.com\" and click on Enter button.', 'Please make sure once and click on the first link which will be Flipkart\\'s official link.']\n",
    "\n",
    "urls=[]\n",
    "for step in steps:\n",
    "    if 'https' in step:\n",
    "        url = re.findall(\"(?P<url>https?:[^\\s]+)\", step)[0]\n",
    "        print(url)\n",
    "        urls.append(url[0:-1])  # removing double quotes from URL using string slicing\n",
    "   \n",
    "    else:\n",
    "        print(step)\n",
    "\n",
    "keyword_prediction = txt_clf.predict(steps)\n",
    "keyword_prediction\n"
   ]
  },
  {
   "cell_type": "code",
   "execution_count": null,
   "id": "aeb7a77c",
   "metadata": {},
   "outputs": [],
   "source": []
  },
  {
   "cell_type": "code",
   "execution_count": 32,
   "id": "a92bebc1",
   "metadata": {},
   "outputs": [],
   "source": [
    "urls = [x for x in urls if str(x) != 'nan']\n",
    "urls = urls[0]"
   ]
  },
  {
   "cell_type": "code",
   "execution_count": 33,
   "id": "c1640f4f",
   "metadata": {},
   "outputs": [
    {
     "data": {
      "text/plain": [
       "'https://www.flipkart.com/'"
      ]
     },
     "execution_count": 33,
     "metadata": {},
     "output_type": "execute_result"
    }
   ],
   "source": [
    "urls"
   ]
  },
  {
   "cell_type": "code",
   "execution_count": 36,
   "id": "3d619d47",
   "metadata": {},
   "outputs": [
    {
     "ename": "WebDriverException",
     "evalue": "Message: 'chromedriver' executable needs to be in PATH. Please see https://sites.google.com/a/chromium.org/chromedriver/home\n",
     "output_type": "error",
     "traceback": [
      "\u001b[1;31m---------------------------------------------------------------------------\u001b[0m",
      "\u001b[1;31mFileNotFoundError\u001b[0m                         Traceback (most recent call last)",
      "\u001b[1;32mc:\\program files\\python36\\lib\\site-packages\\selenium\\webdriver\\common\\service.py\u001b[0m in \u001b[0;36mstart\u001b[1;34m(self)\u001b[0m\n\u001b[0;32m     75\u001b[0m                                             \u001b[0mstderr\u001b[0m\u001b[1;33m=\u001b[0m\u001b[0mself\u001b[0m\u001b[1;33m.\u001b[0m\u001b[0mlog_file\u001b[0m\u001b[1;33m,\u001b[0m\u001b[1;33m\u001b[0m\u001b[1;33m\u001b[0m\u001b[0m\n\u001b[1;32m---> 76\u001b[1;33m                                             stdin=PIPE)\n\u001b[0m\u001b[0;32m     77\u001b[0m         \u001b[1;32mexcept\u001b[0m \u001b[0mTypeError\u001b[0m\u001b[1;33m:\u001b[0m\u001b[1;33m\u001b[0m\u001b[1;33m\u001b[0m\u001b[0m\n",
      "\u001b[1;32mc:\\program files\\python36\\lib\\subprocess.py\u001b[0m in \u001b[0;36m__init__\u001b[1;34m(self, args, bufsize, executable, stdin, stdout, stderr, preexec_fn, close_fds, shell, cwd, env, universal_newlines, startupinfo, creationflags, restore_signals, start_new_session, pass_fds, encoding, errors)\u001b[0m\n\u001b[0;32m    728\u001b[0m                                 \u001b[0merrread\u001b[0m\u001b[1;33m,\u001b[0m \u001b[0merrwrite\u001b[0m\u001b[1;33m,\u001b[0m\u001b[1;33m\u001b[0m\u001b[1;33m\u001b[0m\u001b[0m\n\u001b[1;32m--> 729\u001b[1;33m                                 restore_signals, start_new_session)\n\u001b[0m\u001b[0;32m    730\u001b[0m         \u001b[1;32mexcept\u001b[0m\u001b[1;33m:\u001b[0m\u001b[1;33m\u001b[0m\u001b[1;33m\u001b[0m\u001b[0m\n",
      "\u001b[1;32mc:\\program files\\python36\\lib\\subprocess.py\u001b[0m in \u001b[0;36m_execute_child\u001b[1;34m(self, args, executable, preexec_fn, close_fds, pass_fds, cwd, env, startupinfo, creationflags, shell, p2cread, p2cwrite, c2pread, c2pwrite, errread, errwrite, unused_restore_signals, unused_start_new_session)\u001b[0m\n\u001b[0;32m   1016\u001b[0m                                          \u001b[0mos\u001b[0m\u001b[1;33m.\u001b[0m\u001b[0mfspath\u001b[0m\u001b[1;33m(\u001b[0m\u001b[0mcwd\u001b[0m\u001b[1;33m)\u001b[0m \u001b[1;32mif\u001b[0m \u001b[0mcwd\u001b[0m \u001b[1;32mis\u001b[0m \u001b[1;32mnot\u001b[0m \u001b[1;32mNone\u001b[0m \u001b[1;32melse\u001b[0m \u001b[1;32mNone\u001b[0m\u001b[1;33m,\u001b[0m\u001b[1;33m\u001b[0m\u001b[1;33m\u001b[0m\u001b[0m\n\u001b[1;32m-> 1017\u001b[1;33m                                          startupinfo)\n\u001b[0m\u001b[0;32m   1018\u001b[0m             \u001b[1;32mfinally\u001b[0m\u001b[1;33m:\u001b[0m\u001b[1;33m\u001b[0m\u001b[1;33m\u001b[0m\u001b[0m\n",
      "\u001b[1;31mFileNotFoundError\u001b[0m: [WinError 2] The system cannot find the file specified",
      "\nDuring handling of the above exception, another exception occurred:\n",
      "\u001b[1;31mWebDriverException\u001b[0m                        Traceback (most recent call last)",
      "\u001b[1;32m<ipython-input-36-a29ebfa12933>\u001b[0m in \u001b[0;36m<module>\u001b[1;34m\u001b[0m\n\u001b[0;32m      1\u001b[0m \u001b[1;32mfor\u001b[0m \u001b[0maction\u001b[0m \u001b[1;32min\u001b[0m \u001b[0mkeyword_prediction\u001b[0m\u001b[1;33m:\u001b[0m\u001b[1;33m\u001b[0m\u001b[1;33m\u001b[0m\u001b[0m\n\u001b[0;32m      2\u001b[0m     \u001b[1;32mif\u001b[0m \u001b[0maction\u001b[0m \u001b[1;33m==\u001b[0m \u001b[1;34m'Url'\u001b[0m\u001b[1;33m:\u001b[0m\u001b[1;33m\u001b[0m\u001b[1;33m\u001b[0m\u001b[0m\n\u001b[1;32m----> 3\u001b[1;33m         \u001b[0mdriver\u001b[0m \u001b[1;33m=\u001b[0m \u001b[0mwebdriver\u001b[0m\u001b[1;33m.\u001b[0m\u001b[0mChrome\u001b[0m\u001b[1;33m(\u001b[0m\u001b[1;33m)\u001b[0m\u001b[1;33m\u001b[0m\u001b[1;33m\u001b[0m\u001b[0m\n\u001b[0m\u001b[0;32m      4\u001b[0m         \u001b[0mdriver\u001b[0m\u001b[1;33m.\u001b[0m\u001b[0mget\u001b[0m\u001b[1;33m(\u001b[0m\u001b[0murls\u001b[0m\u001b[1;33m)\u001b[0m\u001b[1;33m\u001b[0m\u001b[1;33m\u001b[0m\u001b[0m\n",
      "\u001b[1;32mc:\\program files\\python36\\lib\\site-packages\\selenium\\webdriver\\chrome\\webdriver.py\u001b[0m in \u001b[0;36m__init__\u001b[1;34m(self, executable_path, port, options, service_args, desired_capabilities, service_log_path, chrome_options, keep_alive)\u001b[0m\n\u001b[0;32m     71\u001b[0m             \u001b[0mservice_args\u001b[0m\u001b[1;33m=\u001b[0m\u001b[0mservice_args\u001b[0m\u001b[1;33m,\u001b[0m\u001b[1;33m\u001b[0m\u001b[1;33m\u001b[0m\u001b[0m\n\u001b[0;32m     72\u001b[0m             log_path=service_log_path)\n\u001b[1;32m---> 73\u001b[1;33m         \u001b[0mself\u001b[0m\u001b[1;33m.\u001b[0m\u001b[0mservice\u001b[0m\u001b[1;33m.\u001b[0m\u001b[0mstart\u001b[0m\u001b[1;33m(\u001b[0m\u001b[1;33m)\u001b[0m\u001b[1;33m\u001b[0m\u001b[1;33m\u001b[0m\u001b[0m\n\u001b[0m\u001b[0;32m     74\u001b[0m \u001b[1;33m\u001b[0m\u001b[0m\n\u001b[0;32m     75\u001b[0m         \u001b[1;32mtry\u001b[0m\u001b[1;33m:\u001b[0m\u001b[1;33m\u001b[0m\u001b[1;33m\u001b[0m\u001b[0m\n",
      "\u001b[1;32mc:\\program files\\python36\\lib\\site-packages\\selenium\\webdriver\\common\\service.py\u001b[0m in \u001b[0;36mstart\u001b[1;34m(self)\u001b[0m\n\u001b[0;32m     81\u001b[0m                 raise WebDriverException(\n\u001b[0;32m     82\u001b[0m                     \"'%s' executable needs to be in PATH. %s\" % (\n\u001b[1;32m---> 83\u001b[1;33m                         os.path.basename(self.path), self.start_error_message)\n\u001b[0m\u001b[0;32m     84\u001b[0m                 )\n\u001b[0;32m     85\u001b[0m             \u001b[1;32melif\u001b[0m \u001b[0merr\u001b[0m\u001b[1;33m.\u001b[0m\u001b[0merrno\u001b[0m \u001b[1;33m==\u001b[0m \u001b[0merrno\u001b[0m\u001b[1;33m.\u001b[0m\u001b[0mEACCES\u001b[0m\u001b[1;33m:\u001b[0m\u001b[1;33m\u001b[0m\u001b[1;33m\u001b[0m\u001b[0m\n",
      "\u001b[1;31mWebDriverException\u001b[0m: Message: 'chromedriver' executable needs to be in PATH. Please see https://sites.google.com/a/chromium.org/chromedriver/home\n"
     ]
    }
   ],
   "source": [
    "for action in keyword_prediction:\n",
    "    if action == 'Url':\n",
    "        driver = webdriver.Chrome()\n",
    "        driver.get(urls)"
   ]
  },
  {
   "cell_type": "code",
   "execution_count": null,
   "id": "e64c9d97",
   "metadata": {},
   "outputs": [],
   "source": []
  },
  {
   "cell_type": "code",
   "execution_count": null,
   "id": "fc9d6868",
   "metadata": {},
   "outputs": [],
   "source": []
  },
  {
   "cell_type": "code",
   "execution_count": null,
   "id": "3afede5e",
   "metadata": {},
   "outputs": [],
   "source": []
  },
  {
   "cell_type": "code",
   "execution_count": null,
   "id": "387e8ce8",
   "metadata": {},
   "outputs": [],
   "source": []
  },
  {
   "cell_type": "code",
   "execution_count": 37,
   "id": "24016bcf",
   "metadata": {},
   "outputs": [
    {
     "ename": "NameError",
     "evalue": "name 'df_new_testcase' is not defined",
     "output_type": "error",
     "traceback": [
      "\u001b[1;31m---------------------------------------------------------------------------\u001b[0m",
      "\u001b[1;31mNameError\u001b[0m                                 Traceback (most recent call last)",
      "\u001b[1;32m<ipython-input-37-6f3e003ce76f>\u001b[0m in \u001b[0;36m<module>\u001b[1;34m\u001b[0m\n\u001b[1;32m----> 1\u001b[1;33m \u001b[0mtest\u001b[0m\u001b[1;33m=\u001b[0m \u001b[0mdf_new_testcase\u001b[0m\u001b[1;33m[\u001b[0m\u001b[1;34m'Test_Step_Description'\u001b[0m\u001b[1;33m]\u001b[0m\u001b[1;33m\u001b[0m\u001b[1;33m\u001b[0m\u001b[0m\n\u001b[0m\u001b[0;32m      2\u001b[0m \u001b[0mtest\u001b[0m\u001b[1;33m\u001b[0m\u001b[1;33m\u001b[0m\u001b[0m\n",
      "\u001b[1;31mNameError\u001b[0m: name 'df_new_testcase' is not defined"
     ]
    }
   ],
   "source": [
    "test= df_new_testcase['Test_Step_Description']\n",
    "test"
   ]
  },
  {
   "cell_type": "code",
   "execution_count": 58,
   "id": "c39719d9",
   "metadata": {},
   "outputs": [],
   "source": [
    "\n",
    "test=test.tolist()\n",
    "\n",
    "#test.dropna(inplace=True)\n",
    "#keyword_prediction = txt_clf.predict(test)\n",
    "#keyword = keyword_prediction.tolist()"
   ]
  },
  {
   "cell_type": "markdown",
   "id": "975e451b",
   "metadata": {},
   "source": [
    "# showcasing test step with the predicted keyword from model"
   ]
  },
  {
   "cell_type": "code",
   "execution_count": 59,
   "id": "42fa938a",
   "metadata": {},
   "outputs": [
    {
     "data": {
      "text/plain": [
       "['Enter the Amzon URL ',\n",
       " \"click on 'Search'\",\n",
       " 'enter product name',\n",
       " 'Click on the Product field',\n",
       " 'Click on Add to cart button']"
      ]
     },
     "execution_count": 59,
     "metadata": {},
     "output_type": "execute_result"
    }
   ],
   "source": [
    "test"
   ]
  },
  {
   "cell_type": "markdown",
   "id": "c8dbc631",
   "metadata": {},
   "source": [
    "# keyword got predicted for the new test case"
   ]
  },
  {
   "cell_type": "code",
   "execution_count": 44,
   "id": "4c7a38c2",
   "metadata": {},
   "outputs": [
    {
     "data": {
      "text/plain": [
       "array(['Url', 'Search', 'product name', 'Click', 'add to cart'],\n",
       "      dtype=object)"
      ]
     },
     "execution_count": 44,
     "metadata": {},
     "output_type": "execute_result"
    }
   ],
   "source": [
    "keyword_prediction = txt_clf.predict(test)\n",
    "keyword_prediction"
   ]
  },
  {
   "cell_type": "markdown",
   "id": "30c77da9",
   "metadata": {},
   "source": [
    "### keyword_prediction.tolist()"
   ]
  },
  {
   "cell_type": "markdown",
   "id": "a9960cc7",
   "metadata": {},
   "source": [
    "# showcasing as a dataframe for view pursose \n"
   ]
  },
  {
   "cell_type": "code",
   "execution_count": 21,
   "id": "b8c7f8ce",
   "metadata": {},
   "outputs": [
    {
     "data": {
      "text/html": [
       "<div>\n",
       "<style scoped>\n",
       "    .dataframe tbody tr th:only-of-type {\n",
       "        vertical-align: middle;\n",
       "    }\n",
       "\n",
       "    .dataframe tbody tr th {\n",
       "        vertical-align: top;\n",
       "    }\n",
       "\n",
       "    .dataframe thead th {\n",
       "        text-align: right;\n",
       "    }\n",
       "</style>\n",
       "<table border=\"1\" class=\"dataframe\">\n",
       "  <thead>\n",
       "    <tr style=\"text-align: right;\">\n",
       "      <th></th>\n",
       "      <th>test_step</th>\n",
       "      <th>keyword_prediction</th>\n",
       "    </tr>\n",
       "  </thead>\n",
       "  <tbody>\n",
       "    <tr>\n",
       "      <th>0</th>\n",
       "      <td>Enter the Amzon URL</td>\n",
       "      <td>Url</td>\n",
       "    </tr>\n",
       "    <tr>\n",
       "      <th>1</th>\n",
       "      <td>click on 'Search'</td>\n",
       "      <td>Search</td>\n",
       "    </tr>\n",
       "    <tr>\n",
       "      <th>2</th>\n",
       "      <td>enter product name</td>\n",
       "      <td>product name</td>\n",
       "    </tr>\n",
       "    <tr>\n",
       "      <th>3</th>\n",
       "      <td>Click on the Product field</td>\n",
       "      <td>Click</td>\n",
       "    </tr>\n",
       "    <tr>\n",
       "      <th>4</th>\n",
       "      <td>Click on Add to cart button</td>\n",
       "      <td>add to cart</td>\n",
       "    </tr>\n",
       "  </tbody>\n",
       "</table>\n",
       "</div>"
      ],
      "text/plain": [
       "                     test_step keyword_prediction\n",
       "0         Enter the Amzon URL                 Url\n",
       "1            click on 'Search'             Search\n",
       "2           enter product name       product name\n",
       "3   Click on the Product field              Click\n",
       "4  Click on Add to cart button        add to cart"
      ]
     },
     "execution_count": 21,
     "metadata": {},
     "output_type": "execute_result"
    }
   ],
   "source": [
    "df_eg = pd.DataFrame(list(zip(test,keyword_prediction)),\n",
    "               columns =['test_step','keyword_prediction'])\n",
    "df_eg"
   ]
  },
  {
   "cell_type": "code",
   "execution_count": 22,
   "id": "bae819ff",
   "metadata": {},
   "outputs": [],
   "source": [
    "urls = df_new_testcase['URL'].tolist()\n",
    "Product_Name = df_new_testcase['Product_Name'].tolist()"
   ]
  },
  {
   "cell_type": "code",
   "execution_count": 23,
   "id": "fa44f7c1",
   "metadata": {},
   "outputs": [],
   "source": [
    "urls = [x for x in urls if str(x) != 'nan']\n",
    "Product_Name = [x for x in Product_Name if str(x) != 'nan']"
   ]
  },
  {
   "cell_type": "code",
   "execution_count": 24,
   "id": "8a959869",
   "metadata": {},
   "outputs": [
    {
     "name": "stdout",
     "output_type": "stream",
     "text": [
      "['https://www.amazon.in/']\n",
      "['iphone 13']\n"
     ]
    }
   ],
   "source": [
    "print(urls)\n",
    "print(Product_Name)"
   ]
  },
  {
   "cell_type": "markdown",
   "id": "8fd8232d",
   "metadata": {},
   "source": [
    "# All the keyword got mapped and the automation was done for the mapped keyword¶"
   ]
  },
  {
   "cell_type": "markdown",
   "id": "50ca21de",
   "metadata": {},
   "source": [
    "For different website has different search element , that search text box we are getting through this script"
   ]
  },
  {
   "cell_type": "code",
   "execution_count": 45,
   "id": "62e46a00",
   "metadata": {},
   "outputs": [
    {
     "name": "stdout",
     "output_type": "stream",
     "text": [
      "Amazon search box selector: field-keywords\n",
      "Flipkart search box selector: q\n",
      "Ajio search box selector: searchVal\n",
      "{'Amazon': ['field-keywords'], 'Flipkart': ['q'], 'Ajio': ['searchVal']}\n"
     ]
    }
   ],
   "source": [
    "from selenium import webdriver\n",
    "from selenium.webdriver.common.by import By\n",
    "import time\n",
    "\n",
    "# Define a dictionary that maps website names to their URLs\n",
    "websites = {\n",
    "    'Amazon': 'https://www.amazon.in/',\n",
    "    'Flipkart': 'https://www.flipkart.com/',\n",
    "    'Ajio': 'https://www.ajio.com/',\n",
    "    #'Myntra': 'https://www.myntra.com/'\n",
    "}\n",
    "\n",
    "# Initialize a Chrome webdriver instance\n",
    "driver = webdriver.Chrome()\n",
    "\n",
    "# Initialize an empty dictionary to store search box selectors for each website\n",
    "website_selectors = {}\n",
    "\n",
    "# Iterate through the websites dictionary and get the search box element\n",
    "for website, url in websites.items():\n",
    "    driver.get(url)\n",
    "    time.sleep(5)  # Wait for the page to load\n",
    "    search_box = driver.find_element(By.CSS_SELECTOR, 'input[type=\"text\"]')\n",
    "    selector = search_box.get_attribute('name')\n",
    "    print(f\"{website} search box selector: {selector}\")\n",
    "    if website not in website_selectors:\n",
    "        website_selectors[website] = []\n",
    "    website_selectors[website].append(selector)\n",
    "\n",
    "# Quit the webdriver instance\n",
    "driver.quit()\n",
    "\n",
    "# Print the website_selectors dictionary\n",
    "print(website_selectors)\n"
   ]
  },
  {
   "cell_type": "code",
   "execution_count": 47,
   "id": "086930cf",
   "metadata": {},
   "outputs": [],
   "source": [
    "from bs4 import BeautifulSoup \n",
    "import webbrowser\n",
    "from selenium import webdriver\n",
    "from selenium.webdriver.common.by import By\n",
    "import pandas as pd\n",
    "from selenium.webdriver.common.keys import Keys"
   ]
  },
  {
   "cell_type": "code",
   "execution_count": 48,
   "id": "cf0bac58",
   "metadata": {},
   "outputs": [],
   "source": [
    "\n",
    "\n",
    "url = 'https://www.amazon.in/'\n",
    "product_name = 'iphone 13'\n",
    "keyword_prediction = ['Url', 'Search', 'Click', 'Add to cart']\n",
    "web = website_selectors[\"Amazon\"]\n",
    "element = web[0]\n",
    "product_name_defined='Apple iPhone 13 (128GB) - (Product) RED'\n",
    "\n",
    "for action in keyword_prediction:\n",
    "    if action == 'Url':\n",
    "        driver = webdriver.Chrome()\n",
    "        driver.get(url)\n",
    "    elif action == 'Search':\n",
    "        search_box = driver.find_element(By.NAME, element)\n",
    "        search_box.send_keys(product_name)\n",
    "        search_box.send_keys(Keys.RETURN)  \n",
    "        search_box = driver.find_element(By.PARTIAL_LINK_TEXT , product_name_defined)\n",
    "        search_box.click()"
   ]
  },
  {
   "cell_type": "code",
   "execution_count": null,
   "id": "93cf3ab0",
   "metadata": {},
   "outputs": [],
   "source": []
  },
  {
   "cell_type": "code",
   "execution_count": null,
   "id": "bd3fca89",
   "metadata": {},
   "outputs": [],
   "source": []
  },
  {
   "cell_type": "code",
   "execution_count": null,
   "id": "42c52bd6",
   "metadata": {},
   "outputs": [],
   "source": []
  },
  {
   "cell_type": "code",
   "execution_count": null,
   "id": "8b79c5ff",
   "metadata": {},
   "outputs": [],
   "source": []
  }
 ],
 "metadata": {
  "kernelspec": {
   "display_name": "Python 3",
   "language": "python",
   "name": "python3"
  },
  "language_info": {
   "codemirror_mode": {
    "name": "ipython",
    "version": 3
   },
   "file_extension": ".py",
   "mimetype": "text/x-python",
   "name": "python",
   "nbconvert_exporter": "python",
   "pygments_lexer": "ipython3",
   "version": "3.6.8"
  }
 },
 "nbformat": 4,
 "nbformat_minor": 5
}
