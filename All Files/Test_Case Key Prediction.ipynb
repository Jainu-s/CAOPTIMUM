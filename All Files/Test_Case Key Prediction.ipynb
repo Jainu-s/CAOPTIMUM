{
 "cells": [
  {
   "cell_type": "markdown",
   "id": "0e8d0c24",
   "metadata": {},
   "source": [
    "# Importing necessary Library"
   ]
  },
  {
   "cell_type": "code",
   "execution_count": 1,
   "id": "4b061cc3",
   "metadata": {},
   "outputs": [],
   "source": [
    "import pandas as pd\n",
    "from sklearn.model_selection import train_test_split\n",
    "from sklearn.pipeline import Pipeline\n",
    "from sklearn.feature_extraction.text import TfidfVectorizer #TF-IDF is a numerical statistic that reflects how important a word is to a document in a collection.\n",
    "from sklearn.svm import LinearSVC\n",
    "from sklearn.metrics import confusion_matrix, classification_report, accuracy_score\n",
    "import joblib"
   ]
  },
  {
   "cell_type": "markdown",
   "id": "2c05d5c1",
   "metadata": {},
   "source": [
    "# Nlp keyword generation part"
   ]
  },
  {
   "cell_type": "markdown",
   "id": "6d373857",
   "metadata": {},
   "source": [
    "# Step:1 Intally we are getting Testcase As an Input as xlsx file"
   ]
  },
  {
   "cell_type": "code",
   "execution_count": 2,
   "id": "28e64fbc",
   "metadata": {},
   "outputs": [
    {
     "ename": "FileNotFoundError",
     "evalue": "[Errno 2] No such file or directory: 'C:\\\\Users\\\\nares\\\\OneDrive\\\\Documents\\\\training_data_new.xlsx'",
     "output_type": "error",
     "traceback": [
      "\u001b[1;31m---------------------------------------------------------------------------\u001b[0m",
      "\u001b[1;31mFileNotFoundError\u001b[0m                         Traceback (most recent call last)",
      "\u001b[1;32m<ipython-input-2-bc7ca65c5780>\u001b[0m in \u001b[0;36m<module>\u001b[1;34m\u001b[0m\n\u001b[1;32m----> 1\u001b[1;33m \u001b[0mdf\u001b[0m \u001b[1;33m=\u001b[0m \u001b[0mpd\u001b[0m\u001b[1;33m.\u001b[0m\u001b[0mread_excel\u001b[0m\u001b[1;33m(\u001b[0m\u001b[1;34mr\"C:\\Users\\nares\\OneDrive\\Documents\\training_data_new.xlsx\"\u001b[0m\u001b[1;33m)\u001b[0m\u001b[1;33m\u001b[0m\u001b[1;33m\u001b[0m\u001b[0m\n\u001b[0m",
      "\u001b[1;32mc:\\program files\\python36\\lib\\site-packages\\pandas\\util\\_decorators.py\u001b[0m in \u001b[0;36mwrapper\u001b[1;34m(*args, **kwargs)\u001b[0m\n\u001b[0;32m    294\u001b[0m                 )\n\u001b[0;32m    295\u001b[0m                 \u001b[0mwarnings\u001b[0m\u001b[1;33m.\u001b[0m\u001b[0mwarn\u001b[0m\u001b[1;33m(\u001b[0m\u001b[0mmsg\u001b[0m\u001b[1;33m,\u001b[0m \u001b[0mFutureWarning\u001b[0m\u001b[1;33m,\u001b[0m \u001b[0mstacklevel\u001b[0m\u001b[1;33m=\u001b[0m\u001b[0mstacklevel\u001b[0m\u001b[1;33m)\u001b[0m\u001b[1;33m\u001b[0m\u001b[1;33m\u001b[0m\u001b[0m\n\u001b[1;32m--> 296\u001b[1;33m             \u001b[1;32mreturn\u001b[0m \u001b[0mfunc\u001b[0m\u001b[1;33m(\u001b[0m\u001b[1;33m*\u001b[0m\u001b[0margs\u001b[0m\u001b[1;33m,\u001b[0m \u001b[1;33m**\u001b[0m\u001b[0mkwargs\u001b[0m\u001b[1;33m)\u001b[0m\u001b[1;33m\u001b[0m\u001b[1;33m\u001b[0m\u001b[0m\n\u001b[0m\u001b[0;32m    297\u001b[0m \u001b[1;33m\u001b[0m\u001b[0m\n\u001b[0;32m    298\u001b[0m         \u001b[1;32mreturn\u001b[0m \u001b[0mwrapper\u001b[0m\u001b[1;33m\u001b[0m\u001b[1;33m\u001b[0m\u001b[0m\n",
      "\u001b[1;32mc:\\program files\\python36\\lib\\site-packages\\pandas\\io\\excel\\_base.py\u001b[0m in \u001b[0;36mread_excel\u001b[1;34m(io, sheet_name, header, names, index_col, usecols, squeeze, dtype, engine, converters, true_values, false_values, skiprows, nrows, na_values, keep_default_na, na_filter, verbose, parse_dates, date_parser, thousands, comment, skipfooter, convert_float, mangle_dupe_cols)\u001b[0m\n\u001b[0;32m    302\u001b[0m \u001b[1;33m\u001b[0m\u001b[0m\n\u001b[0;32m    303\u001b[0m     \u001b[1;32mif\u001b[0m \u001b[1;32mnot\u001b[0m \u001b[0misinstance\u001b[0m\u001b[1;33m(\u001b[0m\u001b[0mio\u001b[0m\u001b[1;33m,\u001b[0m \u001b[0mExcelFile\u001b[0m\u001b[1;33m)\u001b[0m\u001b[1;33m:\u001b[0m\u001b[1;33m\u001b[0m\u001b[1;33m\u001b[0m\u001b[0m\n\u001b[1;32m--> 304\u001b[1;33m         \u001b[0mio\u001b[0m \u001b[1;33m=\u001b[0m \u001b[0mExcelFile\u001b[0m\u001b[1;33m(\u001b[0m\u001b[0mio\u001b[0m\u001b[1;33m,\u001b[0m \u001b[0mengine\u001b[0m\u001b[1;33m=\u001b[0m\u001b[0mengine\u001b[0m\u001b[1;33m)\u001b[0m\u001b[1;33m\u001b[0m\u001b[1;33m\u001b[0m\u001b[0m\n\u001b[0m\u001b[0;32m    305\u001b[0m     \u001b[1;32melif\u001b[0m \u001b[0mengine\u001b[0m \u001b[1;32mand\u001b[0m \u001b[0mengine\u001b[0m \u001b[1;33m!=\u001b[0m \u001b[0mio\u001b[0m\u001b[1;33m.\u001b[0m\u001b[0mengine\u001b[0m\u001b[1;33m:\u001b[0m\u001b[1;33m\u001b[0m\u001b[1;33m\u001b[0m\u001b[0m\n\u001b[0;32m    306\u001b[0m         raise ValueError(\n",
      "\u001b[1;32mc:\\program files\\python36\\lib\\site-packages\\pandas\\io\\excel\\_base.py\u001b[0m in \u001b[0;36m__init__\u001b[1;34m(self, path_or_buffer, engine)\u001b[0m\n\u001b[0;32m    865\u001b[0m         \u001b[0mself\u001b[0m\u001b[1;33m.\u001b[0m\u001b[0m_io\u001b[0m \u001b[1;33m=\u001b[0m \u001b[0mstringify_path\u001b[0m\u001b[1;33m(\u001b[0m\u001b[0mpath_or_buffer\u001b[0m\u001b[1;33m)\u001b[0m\u001b[1;33m\u001b[0m\u001b[1;33m\u001b[0m\u001b[0m\n\u001b[0;32m    866\u001b[0m \u001b[1;33m\u001b[0m\u001b[0m\n\u001b[1;32m--> 867\u001b[1;33m         \u001b[0mself\u001b[0m\u001b[1;33m.\u001b[0m\u001b[0m_reader\u001b[0m \u001b[1;33m=\u001b[0m \u001b[0mself\u001b[0m\u001b[1;33m.\u001b[0m\u001b[0m_engines\u001b[0m\u001b[1;33m[\u001b[0m\u001b[0mengine\u001b[0m\u001b[1;33m]\u001b[0m\u001b[1;33m(\u001b[0m\u001b[0mself\u001b[0m\u001b[1;33m.\u001b[0m\u001b[0m_io\u001b[0m\u001b[1;33m)\u001b[0m\u001b[1;33m\u001b[0m\u001b[1;33m\u001b[0m\u001b[0m\n\u001b[0m\u001b[0;32m    868\u001b[0m \u001b[1;33m\u001b[0m\u001b[0m\n\u001b[0;32m    869\u001b[0m     \u001b[1;32mdef\u001b[0m \u001b[0m__fspath__\u001b[0m\u001b[1;33m(\u001b[0m\u001b[0mself\u001b[0m\u001b[1;33m)\u001b[0m\u001b[1;33m:\u001b[0m\u001b[1;33m\u001b[0m\u001b[1;33m\u001b[0m\u001b[0m\n",
      "\u001b[1;32mc:\\program files\\python36\\lib\\site-packages\\pandas\\io\\excel\\_xlrd.py\u001b[0m in \u001b[0;36m__init__\u001b[1;34m(self, filepath_or_buffer)\u001b[0m\n\u001b[0;32m     20\u001b[0m         \u001b[0merr_msg\u001b[0m \u001b[1;33m=\u001b[0m \u001b[1;34m\"Install xlrd >= 1.0.0 for Excel support\"\u001b[0m\u001b[1;33m\u001b[0m\u001b[1;33m\u001b[0m\u001b[0m\n\u001b[0;32m     21\u001b[0m         \u001b[0mimport_optional_dependency\u001b[0m\u001b[1;33m(\u001b[0m\u001b[1;34m\"xlrd\"\u001b[0m\u001b[1;33m,\u001b[0m \u001b[0mextra\u001b[0m\u001b[1;33m=\u001b[0m\u001b[0merr_msg\u001b[0m\u001b[1;33m)\u001b[0m\u001b[1;33m\u001b[0m\u001b[1;33m\u001b[0m\u001b[0m\n\u001b[1;32m---> 22\u001b[1;33m         \u001b[0msuper\u001b[0m\u001b[1;33m(\u001b[0m\u001b[1;33m)\u001b[0m\u001b[1;33m.\u001b[0m\u001b[0m__init__\u001b[0m\u001b[1;33m(\u001b[0m\u001b[0mfilepath_or_buffer\u001b[0m\u001b[1;33m)\u001b[0m\u001b[1;33m\u001b[0m\u001b[1;33m\u001b[0m\u001b[0m\n\u001b[0m\u001b[0;32m     23\u001b[0m \u001b[1;33m\u001b[0m\u001b[0m\n\u001b[0;32m     24\u001b[0m     \u001b[1;33m@\u001b[0m\u001b[0mproperty\u001b[0m\u001b[1;33m\u001b[0m\u001b[1;33m\u001b[0m\u001b[0m\n",
      "\u001b[1;32mc:\\program files\\python36\\lib\\site-packages\\pandas\\io\\excel\\_base.py\u001b[0m in \u001b[0;36m__init__\u001b[1;34m(self, filepath_or_buffer)\u001b[0m\n\u001b[0;32m    351\u001b[0m             \u001b[0mself\u001b[0m\u001b[1;33m.\u001b[0m\u001b[0mbook\u001b[0m \u001b[1;33m=\u001b[0m \u001b[0mself\u001b[0m\u001b[1;33m.\u001b[0m\u001b[0mload_workbook\u001b[0m\u001b[1;33m(\u001b[0m\u001b[0mfilepath_or_buffer\u001b[0m\u001b[1;33m)\u001b[0m\u001b[1;33m\u001b[0m\u001b[1;33m\u001b[0m\u001b[0m\n\u001b[0;32m    352\u001b[0m         \u001b[1;32melif\u001b[0m \u001b[0misinstance\u001b[0m\u001b[1;33m(\u001b[0m\u001b[0mfilepath_or_buffer\u001b[0m\u001b[1;33m,\u001b[0m \u001b[0mstr\u001b[0m\u001b[1;33m)\u001b[0m\u001b[1;33m:\u001b[0m\u001b[1;33m\u001b[0m\u001b[1;33m\u001b[0m\u001b[0m\n\u001b[1;32m--> 353\u001b[1;33m             \u001b[0mself\u001b[0m\u001b[1;33m.\u001b[0m\u001b[0mbook\u001b[0m \u001b[1;33m=\u001b[0m \u001b[0mself\u001b[0m\u001b[1;33m.\u001b[0m\u001b[0mload_workbook\u001b[0m\u001b[1;33m(\u001b[0m\u001b[0mfilepath_or_buffer\u001b[0m\u001b[1;33m)\u001b[0m\u001b[1;33m\u001b[0m\u001b[1;33m\u001b[0m\u001b[0m\n\u001b[0m\u001b[0;32m    354\u001b[0m         \u001b[1;32melif\u001b[0m \u001b[0misinstance\u001b[0m\u001b[1;33m(\u001b[0m\u001b[0mfilepath_or_buffer\u001b[0m\u001b[1;33m,\u001b[0m \u001b[0mbytes\u001b[0m\u001b[1;33m)\u001b[0m\u001b[1;33m:\u001b[0m\u001b[1;33m\u001b[0m\u001b[1;33m\u001b[0m\u001b[0m\n\u001b[0;32m    355\u001b[0m             \u001b[0mself\u001b[0m\u001b[1;33m.\u001b[0m\u001b[0mbook\u001b[0m \u001b[1;33m=\u001b[0m \u001b[0mself\u001b[0m\u001b[1;33m.\u001b[0m\u001b[0mload_workbook\u001b[0m\u001b[1;33m(\u001b[0m\u001b[0mBytesIO\u001b[0m\u001b[1;33m(\u001b[0m\u001b[0mfilepath_or_buffer\u001b[0m\u001b[1;33m)\u001b[0m\u001b[1;33m)\u001b[0m\u001b[1;33m\u001b[0m\u001b[1;33m\u001b[0m\u001b[0m\n",
      "\u001b[1;32mc:\\program files\\python36\\lib\\site-packages\\pandas\\io\\excel\\_xlrd.py\u001b[0m in \u001b[0;36mload_workbook\u001b[1;34m(self, filepath_or_buffer)\u001b[0m\n\u001b[0;32m     35\u001b[0m             \u001b[1;32mreturn\u001b[0m \u001b[0mopen_workbook\u001b[0m\u001b[1;33m(\u001b[0m\u001b[0mfile_contents\u001b[0m\u001b[1;33m=\u001b[0m\u001b[0mdata\u001b[0m\u001b[1;33m)\u001b[0m\u001b[1;33m\u001b[0m\u001b[1;33m\u001b[0m\u001b[0m\n\u001b[0;32m     36\u001b[0m         \u001b[1;32melse\u001b[0m\u001b[1;33m:\u001b[0m\u001b[1;33m\u001b[0m\u001b[1;33m\u001b[0m\u001b[0m\n\u001b[1;32m---> 37\u001b[1;33m             \u001b[1;32mreturn\u001b[0m \u001b[0mopen_workbook\u001b[0m\u001b[1;33m(\u001b[0m\u001b[0mfilepath_or_buffer\u001b[0m\u001b[1;33m)\u001b[0m\u001b[1;33m\u001b[0m\u001b[1;33m\u001b[0m\u001b[0m\n\u001b[0m\u001b[0;32m     38\u001b[0m \u001b[1;33m\u001b[0m\u001b[0m\n\u001b[0;32m     39\u001b[0m     \u001b[1;33m@\u001b[0m\u001b[0mproperty\u001b[0m\u001b[1;33m\u001b[0m\u001b[1;33m\u001b[0m\u001b[0m\n",
      "\u001b[1;32m~\\AppData\\Roaming\\Python\\Python36\\site-packages\\xlrd\\__init__.py\u001b[0m in \u001b[0;36mopen_workbook\u001b[1;34m(filename, logfile, verbosity, use_mmap, file_contents, encoding_override, formatting_info, on_demand, ragged_rows, ignore_workbook_corruption)\u001b[0m\n\u001b[0;32m    164\u001b[0m     \"\"\"\n\u001b[0;32m    165\u001b[0m \u001b[1;33m\u001b[0m\u001b[0m\n\u001b[1;32m--> 166\u001b[1;33m     \u001b[0mfile_format\u001b[0m \u001b[1;33m=\u001b[0m \u001b[0minspect_format\u001b[0m\u001b[1;33m(\u001b[0m\u001b[0mfilename\u001b[0m\u001b[1;33m,\u001b[0m \u001b[0mfile_contents\u001b[0m\u001b[1;33m)\u001b[0m\u001b[1;33m\u001b[0m\u001b[1;33m\u001b[0m\u001b[0m\n\u001b[0m\u001b[0;32m    167\u001b[0m     \u001b[1;31m# We have to let unknown file formats pass through here, as some ancient\u001b[0m\u001b[1;33m\u001b[0m\u001b[1;33m\u001b[0m\u001b[1;33m\u001b[0m\u001b[0m\n\u001b[0;32m    168\u001b[0m     \u001b[1;31m# files that xlrd can parse don't start with the expected signature.\u001b[0m\u001b[1;33m\u001b[0m\u001b[1;33m\u001b[0m\u001b[1;33m\u001b[0m\u001b[0m\n",
      "\u001b[1;32m~\\AppData\\Roaming\\Python\\Python36\\site-packages\\xlrd\\__init__.py\u001b[0m in \u001b[0;36minspect_format\u001b[1;34m(path, content)\u001b[0m\n\u001b[0;32m     58\u001b[0m     \u001b[1;32melse\u001b[0m\u001b[1;33m:\u001b[0m\u001b[1;33m\u001b[0m\u001b[1;33m\u001b[0m\u001b[0m\n\u001b[0;32m     59\u001b[0m         \u001b[0mpath\u001b[0m \u001b[1;33m=\u001b[0m \u001b[0mos\u001b[0m\u001b[1;33m.\u001b[0m\u001b[0mpath\u001b[0m\u001b[1;33m.\u001b[0m\u001b[0mexpanduser\u001b[0m\u001b[1;33m(\u001b[0m\u001b[0mpath\u001b[0m\u001b[1;33m)\u001b[0m\u001b[1;33m\u001b[0m\u001b[1;33m\u001b[0m\u001b[0m\n\u001b[1;32m---> 60\u001b[1;33m         \u001b[1;32mwith\u001b[0m \u001b[0mopen\u001b[0m\u001b[1;33m(\u001b[0m\u001b[0mpath\u001b[0m\u001b[1;33m,\u001b[0m \u001b[1;34m\"rb\"\u001b[0m\u001b[1;33m)\u001b[0m \u001b[1;32mas\u001b[0m \u001b[0mf\u001b[0m\u001b[1;33m:\u001b[0m\u001b[1;33m\u001b[0m\u001b[1;33m\u001b[0m\u001b[0m\n\u001b[0m\u001b[0;32m     61\u001b[0m             \u001b[0mpeek\u001b[0m \u001b[1;33m=\u001b[0m \u001b[0mf\u001b[0m\u001b[1;33m.\u001b[0m\u001b[0mread\u001b[0m\u001b[1;33m(\u001b[0m\u001b[0mPEEK_SIZE\u001b[0m\u001b[1;33m)\u001b[0m\u001b[1;33m\u001b[0m\u001b[1;33m\u001b[0m\u001b[0m\n\u001b[0;32m     62\u001b[0m \u001b[1;33m\u001b[0m\u001b[0m\n",
      "\u001b[1;31mFileNotFoundError\u001b[0m: [Errno 2] No such file or directory: 'C:\\\\Users\\\\nares\\\\OneDrive\\\\Documents\\\\training_data_new.xlsx'"
     ]
    }
   ],
   "source": [
    "df = pd.read_excel(r\"C:\\Users\\nares\\OneDrive\\Documents\\training_data_new.xlsx\")"
   ]
  },
  {
   "cell_type": "code",
   "execution_count": null,
   "id": "57be9ba5",
   "metadata": {},
   "outputs": [],
   "source": []
  },
  {
   "cell_type": "markdown",
   "id": "2ad71bcc",
   "metadata": {},
   "source": [
    "# STEP:2 We are the creating Dataframe by taking only TestSteps and we are assiging the common english keywords"
   ]
  },
  {
   "cell_type": "markdown",
   "id": "a7494460",
   "metadata": {},
   "source": [
    "While working with any NLP/ML model we have to provide dataframe as training Data"
   ]
  },
  {
   "cell_type": "code",
   "execution_count": 163,
   "id": "4e374f56",
   "metadata": {},
   "outputs": [
    {
     "data": {
      "text/html": [
       "<div>\n",
       "<style scoped>\n",
       "    .dataframe tbody tr th:only-of-type {\n",
       "        vertical-align: middle;\n",
       "    }\n",
       "\n",
       "    .dataframe tbody tr th {\n",
       "        vertical-align: top;\n",
       "    }\n",
       "\n",
       "    .dataframe thead th {\n",
       "        text-align: right;\n",
       "    }\n",
       "</style>\n",
       "<table border=\"1\" class=\"dataframe\">\n",
       "  <thead>\n",
       "    <tr style=\"text-align: right;\">\n",
       "      <th></th>\n",
       "      <th>Label</th>\n",
       "      <th>TestSteps</th>\n",
       "    </tr>\n",
       "  </thead>\n",
       "  <tbody>\n",
       "    <tr>\n",
       "      <th>0</th>\n",
       "      <td>Url</td>\n",
       "      <td>Navigate to People desk url</td>\n",
       "    </tr>\n",
       "    <tr>\n",
       "      <th>1</th>\n",
       "      <td>Employee ID</td>\n",
       "      <td>Enter the \"Your Employee ID / Official Mail ID\"</td>\n",
       "    </tr>\n",
       "    <tr>\n",
       "      <th>2</th>\n",
       "      <td>Password</td>\n",
       "      <td>Enter the \"Your Password\"</td>\n",
       "    </tr>\n",
       "    <tr>\n",
       "      <th>3</th>\n",
       "      <td>Click</td>\n",
       "      <td>Click on \"Log In\" button</td>\n",
       "    </tr>\n",
       "    <tr>\n",
       "      <th>4</th>\n",
       "      <td>Wait</td>\n",
       "      <td>Wait until \"My Monthly Attendance\" is visible</td>\n",
       "    </tr>\n",
       "    <tr>\n",
       "      <th>...</th>\n",
       "      <td>...</td>\n",
       "      <td>...</td>\n",
       "    </tr>\n",
       "    <tr>\n",
       "      <th>364</th>\n",
       "      <td>Url</td>\n",
       "      <td>Open the CBI_Net Banking mobile application.</td>\n",
       "    </tr>\n",
       "    <tr>\n",
       "      <th>365</th>\n",
       "      <td>Click</td>\n",
       "      <td>Click on the Register Button</td>\n",
       "    </tr>\n",
       "    <tr>\n",
       "      <th>366</th>\n",
       "      <td>Url</td>\n",
       "      <td>Open the CBI_Net Banking mobile application.</td>\n",
       "    </tr>\n",
       "    <tr>\n",
       "      <th>367</th>\n",
       "      <td>Click</td>\n",
       "      <td>Click on the Register Button</td>\n",
       "    </tr>\n",
       "    <tr>\n",
       "      <th>368</th>\n",
       "      <td>Click</td>\n",
       "      <td>Click on the Accept Button in Terms and Condi...</td>\n",
       "    </tr>\n",
       "  </tbody>\n",
       "</table>\n",
       "<p>369 rows × 2 columns</p>\n",
       "</div>"
      ],
      "text/plain": [
       "           Label                                          TestSteps\n",
       "0            Url                        Navigate to People desk url\n",
       "1    Employee ID    Enter the \"Your Employee ID / Official Mail ID\"\n",
       "2       Password                          Enter the \"Your Password\"\n",
       "3          Click                           Click on \"Log In\" button\n",
       "4           Wait      Wait until \"My Monthly Attendance\" is visible\n",
       "..           ...                                                ...\n",
       "364          Url       Open the CBI_Net Banking mobile application.\n",
       "365        Click                      Click on the Register Button \n",
       "366          Url       Open the CBI_Net Banking mobile application.\n",
       "367        Click                      Click on the Register Button \n",
       "368        Click   Click on the Accept Button in Terms and Condi...\n",
       "\n",
       "[369 rows x 2 columns]"
      ]
     },
     "execution_count": 163,
     "metadata": {},
     "output_type": "execute_result"
    }
   ],
   "source": [
    "df"
   ]
  },
  {
   "cell_type": "markdown",
   "id": "3668a90a",
   "metadata": {},
   "source": [
    "# STEP:3Creating Nlp basic model Which is Capable enough to predict common english keyword"
   ]
  },
  {
   "cell_type": "code",
   "execution_count": 164,
   "id": "64338b76",
   "metadata": {},
   "outputs": [],
   "source": [
    "\n",
    "X = df['TestSteps']\n",
    "y = df['Label']\n",
    "\n",
    "\n",
    "X_train, X_test, y_train, y_test = train_test_split(X, y, test_size=0.3)\n",
    "txt_clf = Pipeline([('tfidf',TfidfVectorizer()),('clf',LinearSVC())])\n",
    "txt_clf.fit(X_train, y_train)\n",
    "Pipeline(steps=[('tfidf', TfidfVectorizer()), ('clf', LinearSVC())])\n",
    "predictions = txt_clf.predict(X_test)\n",
    "\n",
    "\n"
   ]
  },
  {
   "cell_type": "markdown",
   "id": "e6993fc0",
   "metadata": {},
   "source": [
    "# Once our model developed it is capable enough to predict the keyword\n"
   ]
  },
  {
   "cell_type": "code",
   "execution_count": 165,
   "id": "c457c42b",
   "metadata": {},
   "outputs": [
    {
     "data": {
      "text/plain": [
       "array(['Click', 'Click', 'Click', 'Click', 'Click', 'Click',\n",
       "       'Employee ID', 'add to cart', 'Enter', 'Password', 'Click', 'Url',\n",
       "       'Url', 'Click', 'Click', 'Get', 'Wait', 'Screenshot', 'Url', 'Url',\n",
       "       'Wait', 'Wait', 'Click', 'Url', 'product name', 'Password',\n",
       "       'Close', 'add to cart', 'Click', 'Click', 'Click', 'Url', 'Click',\n",
       "       'Click', 'Employee ID', 'Password', 'Employee ID', 'Click', 'Url',\n",
       "       'Url', ' Screenshot', 'Enter', 'Click', 'Url', 'Wait', 'Click',\n",
       "       'Wait', 'Click', 'Click', 'Click', 'Click', ' Screenshot', 'Enter',\n",
       "       'Click', 'Click', 'Employee ID', 'Click', 'Click', 'Wait', 'Click',\n",
       "       'Employee ID', 'Click', 'Click', 'product name', 'Get', 'Click',\n",
       "       'Get', 'Screenshot', ' Screenshot', 'Click', 'Screenshot',\n",
       "       'Employee ID', 'product name', 'Wait', 'Employee ID', 'Click',\n",
       "       'Screenshot', 'Wait', 'product name', 'Click', 'Click',\n",
       "       'product name', 'Url', 'Url', ' Screenshot', 'Wait', 'Search',\n",
       "       'Employee ID', ' Screenshot', 'Check', 'Click', 'Input Text',\n",
       "       'Url', 'Click', 'Wait', 'Password', 'Employee ID', 'Click',\n",
       "       'Click', 'Click', 'Get', 'Click', 'product name', 'Url', 'Click',\n",
       "       'Url', 'Click', 'Wait', 'Url', 'Click', 'Click'], dtype=object)"
      ]
     },
     "execution_count": 165,
     "metadata": {},
     "output_type": "execute_result"
    }
   ],
   "source": [
    "predictions"
   ]
  },
  {
   "cell_type": "code",
   "execution_count": null,
   "id": "c6108b24",
   "metadata": {},
   "outputs": [],
   "source": []
  },
  {
   "cell_type": "code",
   "execution_count": 166,
   "id": "864c5b7d",
   "metadata": {},
   "outputs": [
    {
     "data": {
      "text/html": [
       "<div>\n",
       "<style scoped>\n",
       "    .dataframe tbody tr th:only-of-type {\n",
       "        vertical-align: middle;\n",
       "    }\n",
       "\n",
       "    .dataframe tbody tr th {\n",
       "        vertical-align: top;\n",
       "    }\n",
       "\n",
       "    .dataframe thead th {\n",
       "        text-align: right;\n",
       "    }\n",
       "</style>\n",
       "<table border=\"1\" class=\"dataframe\">\n",
       "  <thead>\n",
       "    <tr style=\"text-align: right;\">\n",
       "      <th></th>\n",
       "      <th>Actual</th>\n",
       "      <th>Predicted</th>\n",
       "    </tr>\n",
       "  </thead>\n",
       "  <tbody>\n",
       "    <tr>\n",
       "      <th>222</th>\n",
       "      <td>Click</td>\n",
       "      <td>Click</td>\n",
       "    </tr>\n",
       "    <tr>\n",
       "      <th>17</th>\n",
       "      <td>Search</td>\n",
       "      <td>Click</td>\n",
       "    </tr>\n",
       "    <tr>\n",
       "      <th>181</th>\n",
       "      <td>Click</td>\n",
       "      <td>Click</td>\n",
       "    </tr>\n",
       "    <tr>\n",
       "      <th>182</th>\n",
       "      <td>Click</td>\n",
       "      <td>Click</td>\n",
       "    </tr>\n",
       "    <tr>\n",
       "      <th>105</th>\n",
       "      <td>Click</td>\n",
       "      <td>Click</td>\n",
       "    </tr>\n",
       "    <tr>\n",
       "      <th>...</th>\n",
       "      <td>...</td>\n",
       "      <td>...</td>\n",
       "    </tr>\n",
       "    <tr>\n",
       "      <th>243</th>\n",
       "      <td>Click</td>\n",
       "      <td>Click</td>\n",
       "    </tr>\n",
       "    <tr>\n",
       "      <th>93</th>\n",
       "      <td>Wait</td>\n",
       "      <td>Wait</td>\n",
       "    </tr>\n",
       "    <tr>\n",
       "      <th>206</th>\n",
       "      <td>Url</td>\n",
       "      <td>Url</td>\n",
       "    </tr>\n",
       "    <tr>\n",
       "      <th>119</th>\n",
       "      <td>Click</td>\n",
       "      <td>Click</td>\n",
       "    </tr>\n",
       "    <tr>\n",
       "      <th>335</th>\n",
       "      <td>Click</td>\n",
       "      <td>Click</td>\n",
       "    </tr>\n",
       "  </tbody>\n",
       "</table>\n",
       "<p>111 rows × 2 columns</p>\n",
       "</div>"
      ],
      "text/plain": [
       "     Actual Predicted\n",
       "222   Click     Click\n",
       "17   Search     Click\n",
       "181   Click     Click\n",
       "182   Click     Click\n",
       "105   Click     Click\n",
       "..      ...       ...\n",
       "243   Click     Click\n",
       "93     Wait      Wait\n",
       "206     Url       Url\n",
       "119   Click     Click\n",
       "335   Click     Click\n",
       "\n",
       "[111 rows x 2 columns]"
      ]
     },
     "execution_count": 166,
     "metadata": {},
     "output_type": "execute_result"
    }
   ],
   "source": [
    "df_scores_comp = pd.DataFrame({'Actual':y_test, 'Predicted':predictions})\n",
    "df_scores_comp\n"
   ]
  },
  {
   "cell_type": "code",
   "execution_count": 167,
   "id": "3e59a8e6",
   "metadata": {},
   "outputs": [
    {
     "name": "stdout",
     "output_type": "stream",
     "text": [
      "0.9459459459459459\n"
     ]
    }
   ],
   "source": [
    "print(accuracy_score(y_test, predictions))"
   ]
  },
  {
   "cell_type": "markdown",
   "id": "bc950fdd",
   "metadata": {},
   "source": [
    "# Ingesting the New test case and the keyword is predicted using the new test case's test steps and be created as the dataframe. \n",
    "\n",
    "\n",
    "\n",
    "\n"
   ]
  },
  {
   "cell_type": "code",
   "execution_count": 179,
   "id": "da413978",
   "metadata": {},
   "outputs": [],
   "source": [
    "\n",
    "df_testCase = pd.read_excel(r\"C:\\Users\\nares\\OneDrive\\Desktop\\Automation testing using NLP\\Test_case\\Flipkart - Web.xlsx\",sheet_name=0)"
   ]
  },
  {
   "cell_type": "code",
   "execution_count": 180,
   "id": "4b98d0d2",
   "metadata": {},
   "outputs": [
    {
     "data": {
      "text/html": [
       "<div>\n",
       "<style scoped>\n",
       "    .dataframe tbody tr th:only-of-type {\n",
       "        vertical-align: middle;\n",
       "    }\n",
       "\n",
       "    .dataframe tbody tr th {\n",
       "        vertical-align: top;\n",
       "    }\n",
       "\n",
       "    .dataframe thead th {\n",
       "        text-align: right;\n",
       "    }\n",
       "</style>\n",
       "<table border=\"1\" class=\"dataframe\">\n",
       "  <thead>\n",
       "    <tr style=\"text-align: right;\">\n",
       "      <th></th>\n",
       "      <th>Test case Id</th>\n",
       "      <th>Function</th>\n",
       "      <th>Subfunction</th>\n",
       "      <th>Prerequisites</th>\n",
       "      <th>Test Scenario</th>\n",
       "      <th>Test cases</th>\n",
       "      <th>Execution Steps</th>\n",
       "      <th>Expected Result</th>\n",
       "      <th>Actual Result</th>\n",
       "      <th>Status</th>\n",
       "      <th>Type</th>\n",
       "    </tr>\n",
       "  </thead>\n",
       "  <tbody>\n",
       "    <tr>\n",
       "      <th>0</th>\n",
       "      <td>TC_FK_001</td>\n",
       "      <td>Flipkart Web - Application Launch</td>\n",
       "      <td>Flipkart _ Application Launch - with URL</td>\n",
       "      <td>1) Enable the Internet. \\n2) Launch the Flipka...</td>\n",
       "      <td>Flipkart - Application Launching</td>\n",
       "      <td>To check if the Flipkart Application will laun...</td>\n",
       "      <td>1) Open the Browser\\n2) Enter the given Url in...</td>\n",
       "      <td>Application should be launched and system shou...</td>\n",
       "      <td>Application has launched and home page has dis...</td>\n",
       "      <td>Pass</td>\n",
       "      <td>Positive</td>\n",
       "    </tr>\n",
       "    <tr>\n",
       "      <th>1</th>\n",
       "      <td>TC_FK_002</td>\n",
       "      <td>Flipkart Web- Homepage</td>\n",
       "      <td>Flipkart - Homepage - UI</td>\n",
       "      <td>\\n1) Launch the Flipkart application using giv...</td>\n",
       "      <td>Flipkart - Verification of all the Field and L...</td>\n",
       "      <td>To check if all the Layouts, fields, and compo...</td>\n",
       "      <td>1) Open the application by using given URL \"ht...</td>\n",
       "      <td>All Layouts, fields and components in the Home...</td>\n",
       "      <td>All Layouts, fields and components in the Home...</td>\n",
       "      <td>Pass</td>\n",
       "      <td>Positive</td>\n",
       "    </tr>\n",
       "  </tbody>\n",
       "</table>\n",
       "</div>"
      ],
      "text/plain": [
       "  Test case Id                           Function  \\\n",
       "0    TC_FK_001  Flipkart Web - Application Launch   \n",
       "1    TC_FK_002             Flipkart Web- Homepage   \n",
       "\n",
       "                                Subfunction  \\\n",
       "0  Flipkart _ Application Launch - with URL   \n",
       "1                  Flipkart - Homepage - UI   \n",
       "\n",
       "                                       Prerequisites  \\\n",
       "0  1) Enable the Internet. \\n2) Launch the Flipka...   \n",
       "1  \\n1) Launch the Flipkart application using giv...   \n",
       "\n",
       "                                       Test Scenario  \\\n",
       "0                  Flipkart - Application Launching    \n",
       "1  Flipkart - Verification of all the Field and L...   \n",
       "\n",
       "                                          Test cases  \\\n",
       "0  To check if the Flipkart Application will laun...   \n",
       "1  To check if all the Layouts, fields, and compo...   \n",
       "\n",
       "                                     Execution Steps  \\\n",
       "0  1) Open the Browser\\n2) Enter the given Url in...   \n",
       "1  1) Open the application by using given URL \"ht...   \n",
       "\n",
       "                                     Expected Result  \\\n",
       "0  Application should be launched and system shou...   \n",
       "1  All Layouts, fields and components in the Home...   \n",
       "\n",
       "                                       Actual Result Status      Type  \n",
       "0  Application has launched and home page has dis...   Pass  Positive  \n",
       "1  All Layouts, fields and components in the Home...   Pass  Positive  "
      ]
     },
     "execution_count": 180,
     "metadata": {},
     "output_type": "execute_result"
    }
   ],
   "source": [
    "df_testCase.head(2)"
   ]
  },
  {
   "cell_type": "code",
   "execution_count": 181,
   "id": "700ca004",
   "metadata": {},
   "outputs": [],
   "source": [
    "tryn = df_testCase.iloc[0]"
   ]
  },
  {
   "cell_type": "code",
   "execution_count": 182,
   "id": "c7b16997",
   "metadata": {},
   "outputs": [
    {
     "data": {
      "text/plain": [
       "Test case Id                                               TC_FK_001\n",
       "Function                           Flipkart Web - Application Launch\n",
       "Subfunction                 Flipkart _ Application Launch - with URL\n",
       "Prerequisites      1) Enable the Internet. \\n2) Launch the Flipka...\n",
       "Test Scenario                      Flipkart - Application Launching \n",
       "Test cases         To check if the Flipkart Application will laun...\n",
       "Execution Steps    1) Open the Browser\\n2) Enter the given Url in...\n",
       "Expected Result    Application should be launched and system shou...\n",
       "Actual Result      Application has launched and home page has dis...\n",
       "Status                                                          Pass\n",
       "Type                                                        Positive\n",
       "Name: 0, dtype: object"
      ]
     },
     "execution_count": 182,
     "metadata": {},
     "output_type": "execute_result"
    }
   ],
   "source": [
    "tryn"
   ]
  },
  {
   "cell_type": "code",
   "execution_count": 183,
   "id": "882a6f93",
   "metadata": {},
   "outputs": [],
   "source": [
    "concatenated_str = tryn.astype(str)"
   ]
  },
  {
   "cell_type": "code",
   "execution_count": 184,
   "id": "19f89c24",
   "metadata": {},
   "outputs": [
    {
     "data": {
      "text/plain": [
       "Test case Id                                               TC_FK_001\n",
       "Function                           Flipkart Web - Application Launch\n",
       "Subfunction                 Flipkart _ Application Launch - with URL\n",
       "Prerequisites      1) Enable the Internet. \\n2) Launch the Flipka...\n",
       "Test Scenario                      Flipkart - Application Launching \n",
       "Test cases         To check if the Flipkart Application will laun...\n",
       "Execution Steps    1) Open the Browser\\n2) Enter the given Url in...\n",
       "Expected Result    Application should be launched and system shou...\n",
       "Actual Result      Application has launched and home page has dis...\n",
       "Status                                                          Pass\n",
       "Type                                                        Positive\n",
       "Name: 0, dtype: object"
      ]
     },
     "execution_count": 184,
     "metadata": {},
     "output_type": "execute_result"
    }
   ],
   "source": [
    "concatenated_str"
   ]
  },
  {
   "cell_type": "code",
   "execution_count": 185,
   "id": "56df30f9",
   "metadata": {},
   "outputs": [
    {
     "name": "stdout",
     "output_type": "stream",
     "text": [
      "TC_FK_001 Flipkart Web - Application Launch Flipkart _ Application Launch - with URL 1) Enable the Internet. \n",
      "2) Launch the Flipkart application using given URL \"https://www.flipkart.com/\" Flipkart - Application Launching  To check if the Flipkart Application will launch without fail. 1) Open the Browser\n",
      "2) Enter the given Url in the searchbox  \"https://www.flipkart.com\" and click on Enter button.\n",
      "3) Please make sure once and click on the first link which will be Flipkart's official link. Application should be launched and system should display the home page Application has launched and home page has displayed succesfully Pass Positive\n"
     ]
    }
   ],
   "source": [
    "result = concatenated_str.str.cat(sep=' ')\n",
    "print(result)"
   ]
  },
  {
   "cell_type": "code",
   "execution_count": 186,
   "id": "9fc9d1b0",
   "metadata": {},
   "outputs": [
    {
     "name": "stdout",
     "output_type": "stream",
     "text": [
      "TC_FK_001 Flipkart Web - Application Launch Flipkart _ Application Launch - with URL\n",
      "Enable the Internet.\n",
      "https://www.flipkart.com/\"\n",
      "Open the Browser\n",
      "https://www.flipkart.com\"\n",
      "Please make sure once and click on the first link which will be Flipkart's official link. Application should be launched and system should display the home page Application has launched and home page has displayed succesfully Pass Positive\n"
     ]
    }
   ],
   "source": [
    "import re\n",
    "#text = \"1) Open the Browser 2) Enter the given Url in the searchbox \\\"https://www.flipkart.com\\\" and click on Enter button. 3) Please make sure once and click on the first link which will be Flipkart's official link.\"\n",
    "steps = re.split(r'\\d+\\)', result)\n",
    "steps = [s.strip() for s in steps if s.strip()]\n",
    "\n",
    "\n",
    "\n",
    "# list of steps\n",
    "#steps = ['Open the Browser', 'Enter the given Url in the searchbox \"https://www.flipkart.com\" and click on Enter button.', 'Please make sure once and click on the first link which will be Flipkart\\'s official link.']\n",
    "\n",
    "urls=[]\n",
    "for step in steps:\n",
    "    if 'https' in step:\n",
    "        url = re.findall(\"(?P<url>https?:[^\\s]+)\", step)[0]\n",
    "        print(url)\n",
    "        urls.append(url[0:-1])  # removing double quotes from URL using string slicing\n",
    "   \n",
    "    else:\n",
    "        print(step)"
   ]
  },
  {
   "cell_type": "code",
   "execution_count": 187,
   "id": "709d1491",
   "metadata": {},
   "outputs": [
    {
     "name": "stdout",
     "output_type": "stream",
     "text": [
      "{'Execution Steps': '1) Open the Browser\\n2) Enter the given Url in the searchbox  \"https://www.flipkart.com\" and click on Enter button.\\n3) Please make sure once and click on the first link which will be Flipkart\\'s official link.'}\n"
     ]
    }
   ],
   "source": [
    "# create a dictionary\n",
    "d = tryn.to_dict()\n",
    "# get the key-value pairs where the key contains the substring 'an'\n",
    "an_dict = {k: v for k, v in d.items() if 'Step' in k}\n",
    "\n",
    "# print the dictionary\n",
    "print(an_dict) \n"
   ]
  },
  {
   "cell_type": "code",
   "execution_count": 192,
   "id": "dd5d0817",
   "metadata": {},
   "outputs": [
    {
     "name": "stdout",
     "output_type": "stream",
     "text": [
      "[' Open the Browser', ' Enter the given Url in the searchbox  \"https://www.flipkart.com\" and click on Enter button.', \" Please make sure once and click on the first link which will be Flipkart's official link.\"]\n"
     ]
    }
   ],
   "source": [
    "my_list = list(an_dict.values())\n",
    "# print(my_list)\n",
    "op=[]\n",
    "for i in my_list:\n",
    "    for j in i.split(\"\\n\"):\n",
    "        op.append(\"\".join(re.findall(\"[^\\d+)]\",j)))\n",
    "print(op)"
   ]
  },
  {
   "cell_type": "code",
   "execution_count": 193,
   "id": "35277af8",
   "metadata": {},
   "outputs": [
    {
     "data": {
      "text/html": [
       "<div>\n",
       "<style scoped>\n",
       "    .dataframe tbody tr th:only-of-type {\n",
       "        vertical-align: middle;\n",
       "    }\n",
       "\n",
       "    .dataframe tbody tr th {\n",
       "        vertical-align: top;\n",
       "    }\n",
       "\n",
       "    .dataframe thead th {\n",
       "        text-align: right;\n",
       "    }\n",
       "</style>\n",
       "<table border=\"1\" class=\"dataframe\">\n",
       "  <thead>\n",
       "    <tr style=\"text-align: right;\">\n",
       "      <th></th>\n",
       "      <th>testcases</th>\n",
       "    </tr>\n",
       "  </thead>\n",
       "  <tbody>\n",
       "    <tr>\n",
       "      <th>0</th>\n",
       "      <td>Open the Browser</td>\n",
       "    </tr>\n",
       "    <tr>\n",
       "      <th>1</th>\n",
       "      <td>Enter the given Url in the searchbox  \"https:...</td>\n",
       "    </tr>\n",
       "    <tr>\n",
       "      <th>2</th>\n",
       "      <td>Please make sure once and click on the first ...</td>\n",
       "    </tr>\n",
       "  </tbody>\n",
       "</table>\n",
       "</div>"
      ],
      "text/plain": [
       "                                           testcases\n",
       "0                                   Open the Browser\n",
       "1   Enter the given Url in the searchbox  \"https:...\n",
       "2   Please make sure once and click on the first ..."
      ]
     },
     "execution_count": 193,
     "metadata": {},
     "output_type": "execute_result"
    }
   ],
   "source": [
    "gf=pd.DataFrame({\"testcases\":op})\n",
    "gf\n"
   ]
  },
  {
   "cell_type": "code",
   "execution_count": 194,
   "id": "70b4923d",
   "metadata": {},
   "outputs": [
    {
     "data": {
      "text/plain": [
       "array(['Get', 'Url', 'Click'], dtype=object)"
      ]
     },
     "execution_count": 194,
     "metadata": {},
     "output_type": "execute_result"
    }
   ],
   "source": [
    "dummy = txt_clf.predict(gf[\"testcases\"])\n",
    "dummy"
   ]
  },
  {
   "cell_type": "code",
   "execution_count": null,
   "id": "ab51c895",
   "metadata": {},
   "outputs": [],
   "source": []
  },
  {
   "cell_type": "code",
   "execution_count": null,
   "id": "b0aa6e47",
   "metadata": {},
   "outputs": [],
   "source": []
  },
  {
   "cell_type": "code",
   "execution_count": null,
   "id": "e599fa8d",
   "metadata": {},
   "outputs": [],
   "source": []
  },
  {
   "cell_type": "code",
   "execution_count": null,
   "id": "a6235b0a",
   "metadata": {},
   "outputs": [],
   "source": []
  },
  {
   "cell_type": "code",
   "execution_count": null,
   "id": "851149a5",
   "metadata": {},
   "outputs": [],
   "source": []
  },
  {
   "cell_type": "code",
   "execution_count": null,
   "id": "8ed4250f",
   "metadata": {},
   "outputs": [],
   "source": []
  },
  {
   "cell_type": "code",
   "execution_count": 108,
   "id": "450deed1",
   "metadata": {},
   "outputs": [
    {
     "name": "stdout",
     "output_type": "stream",
     "text": [
      "https://www.Credx.com\"\n",
      "Login to the Application\n"
     ]
    },
    {
     "data": {
      "text/plain": [
       "array(['Url', 'Click'], dtype=object)"
      ]
     },
     "execution_count": 108,
     "metadata": {},
     "output_type": "execute_result"
    }
   ],
   "source": [
    "#rew = df_testCase['Pre-requisite'].iloc[0]\n",
    "\n",
    "import re\n",
    "#text = \"1) Open the Browser 2) Enter the given Url in the searchbox \\\"https://www.flipkart.com\\\" and click on Enter button. 3) Please make sure once and click on the first link which will be Flipkart's official link.\"\n",
    "steps = re.split(r'\\d+\\)', rew)\n",
    "steps = [s.strip() for s in steps if s.strip()]\n",
    "\n",
    "\n",
    "\n",
    "# list of steps\n",
    "#steps = ['Open the Browser', 'Enter the given Url in the searchbox \"https://www.flipkart.com\" and click on Enter button.', 'Please make sure once and click on the first link which will be Flipkart\\'s official link.']\n",
    "\n",
    "urls=[]\n",
    "for step in steps:\n",
    "    if 'https' in step:\n",
    "        url = re.findall(\"(?P<url>https?:[^\\s]+)\", step)[0]\n",
    "        print(url)\n",
    "        urls.append(url[0:-1])  # removing double quotes from URL using string slicing\n",
    "   \n",
    "    else:\n",
    "        print(step)\n",
    "\n",
    "keyword_prediction = txt_clf.predict(steps)\n",
    "keyword_prediction\n"
   ]
  },
  {
   "cell_type": "code",
   "execution_count": null,
   "id": "aeb7a77c",
   "metadata": {},
   "outputs": [],
   "source": []
  },
  {
   "cell_type": "code",
   "execution_count": 109,
   "id": "a92bebc1",
   "metadata": {},
   "outputs": [],
   "source": [
    "urls = [x for x in urls if str(x) != 'nan']\n",
    "urls = urls[0]"
   ]
  },
  {
   "cell_type": "code",
   "execution_count": 110,
   "id": "c1640f4f",
   "metadata": {},
   "outputs": [
    {
     "data": {
      "text/plain": [
       "'https://www.Credx.com'"
      ]
     },
     "execution_count": 110,
     "metadata": {},
     "output_type": "execute_result"
    }
   ],
   "source": [
    "urls"
   ]
  },
  {
   "cell_type": "code",
   "execution_count": 111,
   "id": "3d619d47",
   "metadata": {},
   "outputs": [],
   "source": [
    "for action in keyword_prediction:\n",
    "    if action == 'Url':\n",
    "        driver = webdriver.Chrome()\n",
    "        driver.get(urls)"
   ]
  },
  {
   "cell_type": "code",
   "execution_count": null,
   "id": "e64c9d97",
   "metadata": {},
   "outputs": [],
   "source": []
  },
  {
   "cell_type": "code",
   "execution_count": null,
   "id": "fc9d6868",
   "metadata": {},
   "outputs": [],
   "source": []
  },
  {
   "cell_type": "code",
   "execution_count": null,
   "id": "3afede5e",
   "metadata": {},
   "outputs": [],
   "source": []
  },
  {
   "cell_type": "code",
   "execution_count": null,
   "id": "387e8ce8",
   "metadata": {},
   "outputs": [],
   "source": []
  },
  {
   "cell_type": "code",
   "execution_count": 62,
   "id": "24016bcf",
   "metadata": {},
   "outputs": [
    {
     "ename": "KeyError",
     "evalue": "'Test_Step_Description'",
     "output_type": "error",
     "traceback": [
      "\u001b[1;31m---------------------------------------------------------------------------\u001b[0m",
      "\u001b[1;31mKeyError\u001b[0m                                  Traceback (most recent call last)",
      "\u001b[1;32m~\\anaconda3\\lib\\site-packages\\pandas\\core\\indexes\\base.py\u001b[0m in \u001b[0;36mget_loc\u001b[1;34m(self, key, method, tolerance)\u001b[0m\n\u001b[0;32m   3628\u001b[0m             \u001b[1;32mtry\u001b[0m\u001b[1;33m:\u001b[0m\u001b[1;33m\u001b[0m\u001b[1;33m\u001b[0m\u001b[0m\n\u001b[1;32m-> 3629\u001b[1;33m                 \u001b[1;32mreturn\u001b[0m \u001b[0mself\u001b[0m\u001b[1;33m.\u001b[0m\u001b[0m_engine\u001b[0m\u001b[1;33m.\u001b[0m\u001b[0mget_loc\u001b[0m\u001b[1;33m(\u001b[0m\u001b[0mcasted_key\u001b[0m\u001b[1;33m)\u001b[0m\u001b[1;33m\u001b[0m\u001b[1;33m\u001b[0m\u001b[0m\n\u001b[0m\u001b[0;32m   3630\u001b[0m             \u001b[1;32mexcept\u001b[0m \u001b[0mKeyError\u001b[0m \u001b[1;32mas\u001b[0m \u001b[0merr\u001b[0m\u001b[1;33m:\u001b[0m\u001b[1;33m\u001b[0m\u001b[1;33m\u001b[0m\u001b[0m\n",
      "\u001b[1;32m~\\anaconda3\\lib\\site-packages\\pandas\\_libs\\index.pyx\u001b[0m in \u001b[0;36mpandas._libs.index.IndexEngine.get_loc\u001b[1;34m()\u001b[0m\n",
      "\u001b[1;32m~\\anaconda3\\lib\\site-packages\\pandas\\_libs\\index.pyx\u001b[0m in \u001b[0;36mpandas._libs.index.IndexEngine.get_loc\u001b[1;34m()\u001b[0m\n",
      "\u001b[1;32mpandas\\_libs\\hashtable_class_helper.pxi\u001b[0m in \u001b[0;36mpandas._libs.hashtable.PyObjectHashTable.get_item\u001b[1;34m()\u001b[0m\n",
      "\u001b[1;32mpandas\\_libs\\hashtable_class_helper.pxi\u001b[0m in \u001b[0;36mpandas._libs.hashtable.PyObjectHashTable.get_item\u001b[1;34m()\u001b[0m\n",
      "\u001b[1;31mKeyError\u001b[0m: 'Test_Step_Description'",
      "\nThe above exception was the direct cause of the following exception:\n",
      "\u001b[1;31mKeyError\u001b[0m                                  Traceback (most recent call last)",
      "\u001b[1;32m~\\AppData\\Local\\Temp\\ipykernel_29540\\3851801376.py\u001b[0m in \u001b[0;36m<module>\u001b[1;34m\u001b[0m\n\u001b[1;32m----> 1\u001b[1;33m \u001b[0mtest\u001b[0m\u001b[1;33m=\u001b[0m \u001b[0mdf_new_testcase\u001b[0m\u001b[1;33m[\u001b[0m\u001b[1;34m'Test_Step_Description'\u001b[0m\u001b[1;33m]\u001b[0m\u001b[1;33m\u001b[0m\u001b[1;33m\u001b[0m\u001b[0m\n\u001b[0m\u001b[0;32m      2\u001b[0m \u001b[0mtest\u001b[0m\u001b[1;33m\u001b[0m\u001b[1;33m\u001b[0m\u001b[0m\n",
      "\u001b[1;32m~\\anaconda3\\lib\\site-packages\\pandas\\core\\frame.py\u001b[0m in \u001b[0;36m__getitem__\u001b[1;34m(self, key)\u001b[0m\n\u001b[0;32m   3503\u001b[0m             \u001b[1;32mif\u001b[0m \u001b[0mself\u001b[0m\u001b[1;33m.\u001b[0m\u001b[0mcolumns\u001b[0m\u001b[1;33m.\u001b[0m\u001b[0mnlevels\u001b[0m \u001b[1;33m>\u001b[0m \u001b[1;36m1\u001b[0m\u001b[1;33m:\u001b[0m\u001b[1;33m\u001b[0m\u001b[1;33m\u001b[0m\u001b[0m\n\u001b[0;32m   3504\u001b[0m                 \u001b[1;32mreturn\u001b[0m \u001b[0mself\u001b[0m\u001b[1;33m.\u001b[0m\u001b[0m_getitem_multilevel\u001b[0m\u001b[1;33m(\u001b[0m\u001b[0mkey\u001b[0m\u001b[1;33m)\u001b[0m\u001b[1;33m\u001b[0m\u001b[1;33m\u001b[0m\u001b[0m\n\u001b[1;32m-> 3505\u001b[1;33m             \u001b[0mindexer\u001b[0m \u001b[1;33m=\u001b[0m \u001b[0mself\u001b[0m\u001b[1;33m.\u001b[0m\u001b[0mcolumns\u001b[0m\u001b[1;33m.\u001b[0m\u001b[0mget_loc\u001b[0m\u001b[1;33m(\u001b[0m\u001b[0mkey\u001b[0m\u001b[1;33m)\u001b[0m\u001b[1;33m\u001b[0m\u001b[1;33m\u001b[0m\u001b[0m\n\u001b[0m\u001b[0;32m   3506\u001b[0m             \u001b[1;32mif\u001b[0m \u001b[0mis_integer\u001b[0m\u001b[1;33m(\u001b[0m\u001b[0mindexer\u001b[0m\u001b[1;33m)\u001b[0m\u001b[1;33m:\u001b[0m\u001b[1;33m\u001b[0m\u001b[1;33m\u001b[0m\u001b[0m\n\u001b[0;32m   3507\u001b[0m                 \u001b[0mindexer\u001b[0m \u001b[1;33m=\u001b[0m \u001b[1;33m[\u001b[0m\u001b[0mindexer\u001b[0m\u001b[1;33m]\u001b[0m\u001b[1;33m\u001b[0m\u001b[1;33m\u001b[0m\u001b[0m\n",
      "\u001b[1;32m~\\anaconda3\\lib\\site-packages\\pandas\\core\\indexes\\base.py\u001b[0m in \u001b[0;36mget_loc\u001b[1;34m(self, key, method, tolerance)\u001b[0m\n\u001b[0;32m   3629\u001b[0m                 \u001b[1;32mreturn\u001b[0m \u001b[0mself\u001b[0m\u001b[1;33m.\u001b[0m\u001b[0m_engine\u001b[0m\u001b[1;33m.\u001b[0m\u001b[0mget_loc\u001b[0m\u001b[1;33m(\u001b[0m\u001b[0mcasted_key\u001b[0m\u001b[1;33m)\u001b[0m\u001b[1;33m\u001b[0m\u001b[1;33m\u001b[0m\u001b[0m\n\u001b[0;32m   3630\u001b[0m             \u001b[1;32mexcept\u001b[0m \u001b[0mKeyError\u001b[0m \u001b[1;32mas\u001b[0m \u001b[0merr\u001b[0m\u001b[1;33m:\u001b[0m\u001b[1;33m\u001b[0m\u001b[1;33m\u001b[0m\u001b[0m\n\u001b[1;32m-> 3631\u001b[1;33m                 \u001b[1;32mraise\u001b[0m \u001b[0mKeyError\u001b[0m\u001b[1;33m(\u001b[0m\u001b[0mkey\u001b[0m\u001b[1;33m)\u001b[0m \u001b[1;32mfrom\u001b[0m \u001b[0merr\u001b[0m\u001b[1;33m\u001b[0m\u001b[1;33m\u001b[0m\u001b[0m\n\u001b[0m\u001b[0;32m   3632\u001b[0m             \u001b[1;32mexcept\u001b[0m \u001b[0mTypeError\u001b[0m\u001b[1;33m:\u001b[0m\u001b[1;33m\u001b[0m\u001b[1;33m\u001b[0m\u001b[0m\n\u001b[0;32m   3633\u001b[0m                 \u001b[1;31m# If we have a listlike key, _check_indexing_error will raise\u001b[0m\u001b[1;33m\u001b[0m\u001b[1;33m\u001b[0m\u001b[0m\n",
      "\u001b[1;31mKeyError\u001b[0m: 'Test_Step_Description'"
     ]
    }
   ],
   "source": [
    "test= df_new_testcase['Test_Step_Description']\n",
    "test"
   ]
  },
  {
   "cell_type": "code",
   "execution_count": 58,
   "id": "c39719d9",
   "metadata": {},
   "outputs": [],
   "source": [
    "\n",
    "test=test.tolist()\n",
    "\n",
    "#test.dropna(inplace=True)\n",
    "#keyword_prediction = txt_clf.predict(test)\n",
    "#keyword = keyword_prediction.tolist()"
   ]
  },
  {
   "cell_type": "markdown",
   "id": "975e451b",
   "metadata": {},
   "source": [
    "# showcasing test step with the predicted keyword from model"
   ]
  },
  {
   "cell_type": "code",
   "execution_count": 59,
   "id": "42fa938a",
   "metadata": {},
   "outputs": [
    {
     "data": {
      "text/plain": [
       "['Enter the Amzon URL ',\n",
       " \"click on 'Search'\",\n",
       " 'enter product name',\n",
       " 'Click on the Product field',\n",
       " 'Click on Add to cart button']"
      ]
     },
     "execution_count": 59,
     "metadata": {},
     "output_type": "execute_result"
    }
   ],
   "source": [
    "test"
   ]
  },
  {
   "cell_type": "markdown",
   "id": "c8dbc631",
   "metadata": {},
   "source": [
    "# keyword got predicted for the new test case"
   ]
  },
  {
   "cell_type": "code",
   "execution_count": 44,
   "id": "4c7a38c2",
   "metadata": {},
   "outputs": [
    {
     "data": {
      "text/plain": [
       "array(['Url', 'Search', 'product name', 'Click', 'add to cart'],\n",
       "      dtype=object)"
      ]
     },
     "execution_count": 44,
     "metadata": {},
     "output_type": "execute_result"
    }
   ],
   "source": [
    "keyword_prediction = txt_clf.predict(test)\n",
    "keyword_prediction"
   ]
  },
  {
   "cell_type": "markdown",
   "id": "30c77da9",
   "metadata": {},
   "source": [
    "### keyword_prediction.tolist()"
   ]
  },
  {
   "cell_type": "markdown",
   "id": "a9960cc7",
   "metadata": {},
   "source": [
    "# showcasing as a dataframe for view pursose \n"
   ]
  },
  {
   "cell_type": "code",
   "execution_count": 21,
   "id": "b8c7f8ce",
   "metadata": {},
   "outputs": [
    {
     "data": {
      "text/html": [
       "<div>\n",
       "<style scoped>\n",
       "    .dataframe tbody tr th:only-of-type {\n",
       "        vertical-align: middle;\n",
       "    }\n",
       "\n",
       "    .dataframe tbody tr th {\n",
       "        vertical-align: top;\n",
       "    }\n",
       "\n",
       "    .dataframe thead th {\n",
       "        text-align: right;\n",
       "    }\n",
       "</style>\n",
       "<table border=\"1\" class=\"dataframe\">\n",
       "  <thead>\n",
       "    <tr style=\"text-align: right;\">\n",
       "      <th></th>\n",
       "      <th>test_step</th>\n",
       "      <th>keyword_prediction</th>\n",
       "    </tr>\n",
       "  </thead>\n",
       "  <tbody>\n",
       "    <tr>\n",
       "      <th>0</th>\n",
       "      <td>Enter the Amzon URL</td>\n",
       "      <td>Url</td>\n",
       "    </tr>\n",
       "    <tr>\n",
       "      <th>1</th>\n",
       "      <td>click on 'Search'</td>\n",
       "      <td>Search</td>\n",
       "    </tr>\n",
       "    <tr>\n",
       "      <th>2</th>\n",
       "      <td>enter product name</td>\n",
       "      <td>product name</td>\n",
       "    </tr>\n",
       "    <tr>\n",
       "      <th>3</th>\n",
       "      <td>Click on the Product field</td>\n",
       "      <td>Click</td>\n",
       "    </tr>\n",
       "    <tr>\n",
       "      <th>4</th>\n",
       "      <td>Click on Add to cart button</td>\n",
       "      <td>add to cart</td>\n",
       "    </tr>\n",
       "  </tbody>\n",
       "</table>\n",
       "</div>"
      ],
      "text/plain": [
       "                     test_step keyword_prediction\n",
       "0         Enter the Amzon URL                 Url\n",
       "1            click on 'Search'             Search\n",
       "2           enter product name       product name\n",
       "3   Click on the Product field              Click\n",
       "4  Click on Add to cart button        add to cart"
      ]
     },
     "execution_count": 21,
     "metadata": {},
     "output_type": "execute_result"
    }
   ],
   "source": [
    "df_eg = pd.DataFrame(list(zip(test,keyword_prediction)),\n",
    "               columns =['test_step','keyword_prediction'])\n",
    "df_eg"
   ]
  },
  {
   "cell_type": "code",
   "execution_count": 22,
   "id": "bae819ff",
   "metadata": {},
   "outputs": [],
   "source": [
    "urls = df_new_testcase['URL'].tolist()\n",
    "Product_Name = df_new_testcase['Product_Name'].tolist()"
   ]
  },
  {
   "cell_type": "code",
   "execution_count": 23,
   "id": "fa44f7c1",
   "metadata": {},
   "outputs": [],
   "source": [
    "urls = [x for x in urls if str(x) != 'nan']\n",
    "Product_Name = [x for x in Product_Name if str(x) != 'nan']"
   ]
  },
  {
   "cell_type": "code",
   "execution_count": 24,
   "id": "8a959869",
   "metadata": {},
   "outputs": [
    {
     "name": "stdout",
     "output_type": "stream",
     "text": [
      "['https://www.amazon.in/']\n",
      "['iphone 13']\n"
     ]
    }
   ],
   "source": [
    "print(urls)\n",
    "print(Product_Name)"
   ]
  },
  {
   "cell_type": "markdown",
   "id": "8fd8232d",
   "metadata": {},
   "source": [
    "# All the keyword got mapped and the automation was done for the mapped keyword¶"
   ]
  },
  {
   "cell_type": "markdown",
   "id": "50ca21de",
   "metadata": {},
   "source": [
    "For different website has different search element , that search text box we are getting through this script"
   ]
  },
  {
   "cell_type": "code",
   "execution_count": 45,
   "id": "62e46a00",
   "metadata": {},
   "outputs": [
    {
     "name": "stdout",
     "output_type": "stream",
     "text": [
      "Amazon search box selector: field-keywords\n",
      "Flipkart search box selector: q\n",
      "Ajio search box selector: searchVal\n",
      "{'Amazon': ['field-keywords'], 'Flipkart': ['q'], 'Ajio': ['searchVal']}\n"
     ]
    }
   ],
   "source": [
    "from selenium import webdriver\n",
    "from selenium.webdriver.common.by import By\n",
    "import time\n",
    "\n",
    "# Define a dictionary that maps website names to their URLs\n",
    "websites = {\n",
    "    'Amazon': 'https://www.amazon.in/',\n",
    "    'Flipkart': 'https://www.flipkart.com/',\n",
    "    'Ajio': 'https://www.ajio.com/',\n",
    "    #'Myntra': 'https://www.myntra.com/'\n",
    "}\n",
    "\n",
    "# Initialize a Chrome webdriver instance\n",
    "driver = webdriver.Chrome()\n",
    "\n",
    "# Initialize an empty dictionary to store search box selectors for each website\n",
    "website_selectors = {}\n",
    "\n",
    "# Iterate through the websites dictionary and get the search box element\n",
    "for website, url in websites.items():\n",
    "    driver.get(url)\n",
    "    time.sleep(5)  # Wait for the page to load\n",
    "    search_box = driver.find_element(By.CSS_SELECTOR, 'input[type=\"text\"]')\n",
    "    selector = search_box.get_attribute('name')\n",
    "    print(f\"{website} search box selector: {selector}\")\n",
    "    if website not in website_selectors:\n",
    "        website_selectors[website] = []\n",
    "    website_selectors[website].append(selector)\n",
    "\n",
    "# Quit the webdriver instance\n",
    "driver.quit()\n",
    "\n",
    "# Print the website_selectors dictionary\n",
    "print(website_selectors)\n"
   ]
  },
  {
   "cell_type": "code",
   "execution_count": 47,
   "id": "086930cf",
   "metadata": {},
   "outputs": [],
   "source": [
    "from bs4 import BeautifulSoup \n",
    "import webbrowser\n",
    "from selenium import webdriver\n",
    "from selenium.webdriver.common.by import By\n",
    "import pandas as pd\n",
    "from selenium.webdriver.common.keys import Keys"
   ]
  },
  {
   "cell_type": "code",
   "execution_count": 48,
   "id": "cf0bac58",
   "metadata": {},
   "outputs": [],
   "source": [
    "\n",
    "\n",
    "url = 'https://www.amazon.in/'\n",
    "product_name = 'iphone 13'\n",
    "keyword_prediction = ['Url', 'Search', 'Click', 'Add to cart']\n",
    "web = website_selectors[\"Amazon\"]\n",
    "element = web[0]\n",
    "product_name_defined='Apple iPhone 13 (128GB) - (Product) RED'\n",
    "\n",
    "for action in keyword_prediction:\n",
    "    if action == 'Url':\n",
    "        driver = webdriver.Chrome()\n",
    "        driver.get(url)\n",
    "    elif action == 'Search':\n",
    "        search_box = driver.find_element(By.NAME, element)\n",
    "        search_box.send_keys(product_name)\n",
    "        search_box.send_keys(Keys.RETURN)  \n",
    "        search_box = driver.find_element(By.PARTIAL_LINK_TEXT , product_name_defined)\n",
    "        search_box.click()"
   ]
  },
  {
   "cell_type": "code",
   "execution_count": null,
   "id": "93cf3ab0",
   "metadata": {},
   "outputs": [],
   "source": []
  },
  {
   "cell_type": "code",
   "execution_count": null,
   "id": "bd3fca89",
   "metadata": {},
   "outputs": [],
   "source": []
  },
  {
   "cell_type": "code",
   "execution_count": null,
   "id": "42c52bd6",
   "metadata": {},
   "outputs": [],
   "source": []
  },
  {
   "cell_type": "code",
   "execution_count": null,
   "id": "8b79c5ff",
   "metadata": {},
   "outputs": [],
   "source": []
  }
 ],
 "metadata": {
  "kernelspec": {
   "display_name": "Python 3",
   "language": "python",
   "name": "python3"
  },
  "language_info": {
   "codemirror_mode": {
    "name": "ipython",
    "version": 3
   },
   "file_extension": ".py",
   "mimetype": "text/x-python",
   "name": "python",
   "nbconvert_exporter": "python",
   "pygments_lexer": "ipython3",
   "version": "3.6.8"
  }
 },
 "nbformat": 4,
 "nbformat_minor": 5
}
